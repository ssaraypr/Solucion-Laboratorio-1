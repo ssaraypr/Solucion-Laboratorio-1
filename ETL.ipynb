{
 "cells": [
  {
   "cell_type": "markdown",
   "metadata": {},
   "source": [
    "# Transformaciones a los datos"
   ]
  },
  {
   "cell_type": "code",
   "execution_count": 128,
   "metadata": {},
   "outputs": [],
   "source": [
    "#Importar librerias necesarias para el proceso de transformación de datos\n",
    "import pandas as pd\n",
    "import numpy as np\n",
    "import json\n",
    "import ast"
   ]
  },
  {
   "cell_type": "code",
   "execution_count": 129,
   "metadata": {},
   "outputs": [
    {
     "data": {
      "text/html": [
       "<div>\n",
       "<style scoped>\n",
       "    .dataframe tbody tr th:only-of-type {\n",
       "        vertical-align: middle;\n",
       "    }\n",
       "\n",
       "    .dataframe tbody tr th {\n",
       "        vertical-align: top;\n",
       "    }\n",
       "\n",
       "    .dataframe thead th {\n",
       "        text-align: right;\n",
       "    }\n",
       "</style>\n",
       "<table border=\"1\" class=\"dataframe\">\n",
       "  <thead>\n",
       "    <tr style=\"text-align: right;\">\n",
       "      <th></th>\n",
       "      <th>adult</th>\n",
       "      <th>belongs_to_collection</th>\n",
       "      <th>budget</th>\n",
       "      <th>genres</th>\n",
       "      <th>homepage</th>\n",
       "      <th>id</th>\n",
       "      <th>imdb_id</th>\n",
       "      <th>original_language</th>\n",
       "      <th>original_title</th>\n",
       "      <th>overview</th>\n",
       "      <th>...</th>\n",
       "      <th>release_date</th>\n",
       "      <th>revenue</th>\n",
       "      <th>runtime</th>\n",
       "      <th>spoken_languages</th>\n",
       "      <th>status</th>\n",
       "      <th>tagline</th>\n",
       "      <th>title</th>\n",
       "      <th>video</th>\n",
       "      <th>vote_average</th>\n",
       "      <th>vote_count</th>\n",
       "    </tr>\n",
       "  </thead>\n",
       "  <tbody>\n",
       "    <tr>\n",
       "      <th>0</th>\n",
       "      <td>False</td>\n",
       "      <td>{'id': 10194, 'name': 'Toy Story Collection', ...</td>\n",
       "      <td>30000000</td>\n",
       "      <td>[{'id': 16, 'name': 'Animation'}, {'id': 35, '...</td>\n",
       "      <td>http://toystory.disney.com/toy-story</td>\n",
       "      <td>862</td>\n",
       "      <td>tt0114709</td>\n",
       "      <td>en</td>\n",
       "      <td>Toy Story</td>\n",
       "      <td>Led by Woody, Andy's toys live happily in his ...</td>\n",
       "      <td>...</td>\n",
       "      <td>1995-10-30</td>\n",
       "      <td>373554033.00</td>\n",
       "      <td>81.00</td>\n",
       "      <td>[{'iso_639_1': 'en', 'name': 'English'}]</td>\n",
       "      <td>Released</td>\n",
       "      <td>NaN</td>\n",
       "      <td>Toy Story</td>\n",
       "      <td>False</td>\n",
       "      <td>7.70</td>\n",
       "      <td>5415.00</td>\n",
       "    </tr>\n",
       "    <tr>\n",
       "      <th>1</th>\n",
       "      <td>False</td>\n",
       "      <td>NaN</td>\n",
       "      <td>65000000</td>\n",
       "      <td>[{'id': 12, 'name': 'Adventure'}, {'id': 14, '...</td>\n",
       "      <td>NaN</td>\n",
       "      <td>8844</td>\n",
       "      <td>tt0113497</td>\n",
       "      <td>en</td>\n",
       "      <td>Jumanji</td>\n",
       "      <td>When siblings Judy and Peter discover an encha...</td>\n",
       "      <td>...</td>\n",
       "      <td>1995-12-15</td>\n",
       "      <td>262797249.00</td>\n",
       "      <td>104.00</td>\n",
       "      <td>[{'iso_639_1': 'en', 'name': 'English'}, {'iso...</td>\n",
       "      <td>Released</td>\n",
       "      <td>Roll the dice and unleash the excitement!</td>\n",
       "      <td>Jumanji</td>\n",
       "      <td>False</td>\n",
       "      <td>6.90</td>\n",
       "      <td>2413.00</td>\n",
       "    </tr>\n",
       "    <tr>\n",
       "      <th>2</th>\n",
       "      <td>False</td>\n",
       "      <td>{'id': 119050, 'name': 'Grumpy Old Men Collect...</td>\n",
       "      <td>0</td>\n",
       "      <td>[{'id': 10749, 'name': 'Romance'}, {'id': 35, ...</td>\n",
       "      <td>NaN</td>\n",
       "      <td>15602</td>\n",
       "      <td>tt0113228</td>\n",
       "      <td>en</td>\n",
       "      <td>Grumpier Old Men</td>\n",
       "      <td>A family wedding reignites the ancient feud be...</td>\n",
       "      <td>...</td>\n",
       "      <td>1995-12-22</td>\n",
       "      <td>0.00</td>\n",
       "      <td>101.00</td>\n",
       "      <td>[{'iso_639_1': 'en', 'name': 'English'}]</td>\n",
       "      <td>Released</td>\n",
       "      <td>Still Yelling. Still Fighting. Still Ready for...</td>\n",
       "      <td>Grumpier Old Men</td>\n",
       "      <td>False</td>\n",
       "      <td>6.50</td>\n",
       "      <td>92.00</td>\n",
       "    </tr>\n",
       "  </tbody>\n",
       "</table>\n",
       "<p>3 rows × 24 columns</p>\n",
       "</div>"
      ],
      "text/plain": [
       "   adult                              belongs_to_collection    budget  \\\n",
       "0  False  {'id': 10194, 'name': 'Toy Story Collection', ...  30000000   \n",
       "1  False                                                NaN  65000000   \n",
       "2  False  {'id': 119050, 'name': 'Grumpy Old Men Collect...         0   \n",
       "\n",
       "                                              genres  \\\n",
       "0  [{'id': 16, 'name': 'Animation'}, {'id': 35, '...   \n",
       "1  [{'id': 12, 'name': 'Adventure'}, {'id': 14, '...   \n",
       "2  [{'id': 10749, 'name': 'Romance'}, {'id': 35, ...   \n",
       "\n",
       "                               homepage     id    imdb_id original_language  \\\n",
       "0  http://toystory.disney.com/toy-story    862  tt0114709                en   \n",
       "1                                   NaN   8844  tt0113497                en   \n",
       "2                                   NaN  15602  tt0113228                en   \n",
       "\n",
       "     original_title                                           overview  ...  \\\n",
       "0         Toy Story  Led by Woody, Andy's toys live happily in his ...  ...   \n",
       "1           Jumanji  When siblings Judy and Peter discover an encha...  ...   \n",
       "2  Grumpier Old Men  A family wedding reignites the ancient feud be...  ...   \n",
       "\n",
       "  release_date      revenue runtime  \\\n",
       "0   1995-10-30 373554033.00   81.00   \n",
       "1   1995-12-15 262797249.00  104.00   \n",
       "2   1995-12-22         0.00  101.00   \n",
       "\n",
       "                                    spoken_languages    status  \\\n",
       "0           [{'iso_639_1': 'en', 'name': 'English'}]  Released   \n",
       "1  [{'iso_639_1': 'en', 'name': 'English'}, {'iso...  Released   \n",
       "2           [{'iso_639_1': 'en', 'name': 'English'}]  Released   \n",
       "\n",
       "                                             tagline             title  video  \\\n",
       "0                                                NaN         Toy Story  False   \n",
       "1          Roll the dice and unleash the excitement!           Jumanji  False   \n",
       "2  Still Yelling. Still Fighting. Still Ready for...  Grumpier Old Men  False   \n",
       "\n",
       "  vote_average vote_count  \n",
       "0         7.70    5415.00  \n",
       "1         6.90    2413.00  \n",
       "2         6.50      92.00  \n",
       "\n",
       "[3 rows x 24 columns]"
      ]
     },
     "execution_count": 129,
     "metadata": {},
     "output_type": "execute_result"
    }
   ],
   "source": [
    "#Realizar la lectura del archivo \"movies_dataset\"\n",
    "movies = pd.read_csv(\"movies_dataset.csv\", delimiter=\",\", low_memory=False, encoding=\"utf-8\",)\n",
    "movies.head(3) #ver encabezado para verificar correcta lectura del archivo"
   ]
  },
  {
   "cell_type": "code",
   "execution_count": 130,
   "metadata": {},
   "outputs": [
    {
     "name": "stdout",
     "output_type": "stream",
     "text": [
      "<class 'pandas.core.frame.DataFrame'>\n",
      "RangeIndex: 45466 entries, 0 to 45465\n",
      "Data columns (total 24 columns):\n",
      " #   Column                 Non-Null Count  Dtype  \n",
      "---  ------                 --------------  -----  \n",
      " 0   adult                  45466 non-null  object \n",
      " 1   belongs_to_collection  4494 non-null   object \n",
      " 2   budget                 45466 non-null  object \n",
      " 3   genres                 45466 non-null  object \n",
      " 4   homepage               7782 non-null   object \n",
      " 5   id                     45466 non-null  object \n",
      " 6   imdb_id                45449 non-null  object \n",
      " 7   original_language      45455 non-null  object \n",
      " 8   original_title         45466 non-null  object \n",
      " 9   overview               44512 non-null  object \n",
      " 10  popularity             45461 non-null  object \n",
      " 11  poster_path            45080 non-null  object \n",
      " 12  production_companies   45463 non-null  object \n",
      " 13  production_countries   45463 non-null  object \n",
      " 14  release_date           45379 non-null  object \n",
      " 15  revenue                45460 non-null  float64\n",
      " 16  runtime                45203 non-null  float64\n",
      " 17  spoken_languages       45460 non-null  object \n",
      " 18  status                 45379 non-null  object \n",
      " 19  tagline                20412 non-null  object \n",
      " 20  title                  45460 non-null  object \n",
      " 21  video                  45460 non-null  object \n",
      " 22  vote_average           45460 non-null  float64\n",
      " 23  vote_count             45460 non-null  float64\n",
      "dtypes: float64(4), object(20)\n",
      "memory usage: 8.3+ MB\n"
     ]
    }
   ],
   "source": [
    "movies.info() #verificación de campos nulos y tipo de datos"
   ]
  },
  {
   "cell_type": "markdown",
   "metadata": {},
   "source": [
    "# Extraer información de columnas diccionarios / listas\n",
    "Se realizará la extracción de la información contenida de las siguientes columnas:\n",
    "belongs_to_collection\n",
    "genres\n",
    "production_companies\n",
    "production_countries\n",
    "spoken_languages\n",
    "Las cuales se encuentran  anidados, esto es porque ienen un diccionario o una lista como valores en cada fila."
   ]
  },
  {
   "cell_type": "code",
   "execution_count": 131,
   "metadata": {},
   "outputs": [],
   "source": [
    "#Convertir \"belong_to_collection\" a diccionario para poder acceder a los valores\n",
    "movies[\"belongs_to_collection\"] = movies[\"belongs_to_collection\"].apply(lambda x: ast.literal_eval(x) if pd.notnull(x) else {})"
   ]
  },
  {
   "cell_type": "code",
   "execution_count": 132,
   "metadata": {},
   "outputs": [
    {
     "data": {
      "text/plain": [
       "dict_keys(['id', 'name', 'poster_path', 'backdrop_path'])"
      ]
     },
     "execution_count": 132,
     "metadata": {},
     "output_type": "execute_result"
    }
   ],
   "source": [
    "#Verificar las claves del diccionario belong_to_collectio\n",
    "movies[\"belongs_to_collection\"][0].keys()"
   ]
  },
  {
   "cell_type": "code",
   "execution_count": 133,
   "metadata": {},
   "outputs": [
    {
     "data": {
      "text/html": [
       "<div>\n",
       "<style scoped>\n",
       "    .dataframe tbody tr th:only-of-type {\n",
       "        vertical-align: middle;\n",
       "    }\n",
       "\n",
       "    .dataframe tbody tr th {\n",
       "        vertical-align: top;\n",
       "    }\n",
       "\n",
       "    .dataframe thead th {\n",
       "        text-align: right;\n",
       "    }\n",
       "</style>\n",
       "<table border=\"1\" class=\"dataframe\">\n",
       "  <thead>\n",
       "    <tr style=\"text-align: right;\">\n",
       "      <th></th>\n",
       "      <th>adult</th>\n",
       "      <th>belongs_to_collection</th>\n",
       "      <th>budget</th>\n",
       "      <th>genres</th>\n",
       "      <th>homepage</th>\n",
       "      <th>id</th>\n",
       "      <th>imdb_id</th>\n",
       "      <th>original_language</th>\n",
       "      <th>original_title</th>\n",
       "      <th>overview</th>\n",
       "      <th>...</th>\n",
       "      <th>status</th>\n",
       "      <th>tagline</th>\n",
       "      <th>title</th>\n",
       "      <th>video</th>\n",
       "      <th>vote_average</th>\n",
       "      <th>vote_count</th>\n",
       "      <th>id_collections</th>\n",
       "      <th>name_collections</th>\n",
       "      <th>poster_path_collections</th>\n",
       "      <th>backdrop_path_collections</th>\n",
       "    </tr>\n",
       "  </thead>\n",
       "  <tbody>\n",
       "    <tr>\n",
       "      <th>0</th>\n",
       "      <td>False</td>\n",
       "      <td>{'id': 10194, 'name': 'Toy Story Collection', ...</td>\n",
       "      <td>30000000</td>\n",
       "      <td>[{'id': 16, 'name': 'Animation'}, {'id': 35, '...</td>\n",
       "      <td>http://toystory.disney.com/toy-story</td>\n",
       "      <td>862</td>\n",
       "      <td>tt0114709</td>\n",
       "      <td>en</td>\n",
       "      <td>Toy Story</td>\n",
       "      <td>Led by Woody, Andy's toys live happily in his ...</td>\n",
       "      <td>...</td>\n",
       "      <td>Released</td>\n",
       "      <td>NaN</td>\n",
       "      <td>Toy Story</td>\n",
       "      <td>False</td>\n",
       "      <td>7.70</td>\n",
       "      <td>5415.00</td>\n",
       "      <td>10194.00</td>\n",
       "      <td>Toy Story Collection</td>\n",
       "      <td>/7G9915LfUQ2lVfwMEEhDsn3kT4B.jpg</td>\n",
       "      <td>/9FBwqcd9IRruEDUrTdcaafOMKUq.jpg</td>\n",
       "    </tr>\n",
       "    <tr>\n",
       "      <th>1</th>\n",
       "      <td>False</td>\n",
       "      <td>{}</td>\n",
       "      <td>65000000</td>\n",
       "      <td>[{'id': 12, 'name': 'Adventure'}, {'id': 14, '...</td>\n",
       "      <td>NaN</td>\n",
       "      <td>8844</td>\n",
       "      <td>tt0113497</td>\n",
       "      <td>en</td>\n",
       "      <td>Jumanji</td>\n",
       "      <td>When siblings Judy and Peter discover an encha...</td>\n",
       "      <td>...</td>\n",
       "      <td>Released</td>\n",
       "      <td>Roll the dice and unleash the excitement!</td>\n",
       "      <td>Jumanji</td>\n",
       "      <td>False</td>\n",
       "      <td>6.90</td>\n",
       "      <td>2413.00</td>\n",
       "      <td>NaN</td>\n",
       "      <td>None</td>\n",
       "      <td>None</td>\n",
       "      <td>None</td>\n",
       "    </tr>\n",
       "    <tr>\n",
       "      <th>2</th>\n",
       "      <td>False</td>\n",
       "      <td>{'id': 119050, 'name': 'Grumpy Old Men Collect...</td>\n",
       "      <td>0</td>\n",
       "      <td>[{'id': 10749, 'name': 'Romance'}, {'id': 35, ...</td>\n",
       "      <td>NaN</td>\n",
       "      <td>15602</td>\n",
       "      <td>tt0113228</td>\n",
       "      <td>en</td>\n",
       "      <td>Grumpier Old Men</td>\n",
       "      <td>A family wedding reignites the ancient feud be...</td>\n",
       "      <td>...</td>\n",
       "      <td>Released</td>\n",
       "      <td>Still Yelling. Still Fighting. Still Ready for...</td>\n",
       "      <td>Grumpier Old Men</td>\n",
       "      <td>False</td>\n",
       "      <td>6.50</td>\n",
       "      <td>92.00</td>\n",
       "      <td>119050.00</td>\n",
       "      <td>Grumpy Old Men Collection</td>\n",
       "      <td>/nLvUdqgPgm3F85NMCii9gVFUcet.jpg</td>\n",
       "      <td>/hypTnLot2z8wpFS7qwsQHW1uV8u.jpg</td>\n",
       "    </tr>\n",
       "    <tr>\n",
       "      <th>3</th>\n",
       "      <td>False</td>\n",
       "      <td>{}</td>\n",
       "      <td>16000000</td>\n",
       "      <td>[{'id': 35, 'name': 'Comedy'}, {'id': 18, 'nam...</td>\n",
       "      <td>NaN</td>\n",
       "      <td>31357</td>\n",
       "      <td>tt0114885</td>\n",
       "      <td>en</td>\n",
       "      <td>Waiting to Exhale</td>\n",
       "      <td>Cheated on, mistreated and stepped on, the wom...</td>\n",
       "      <td>...</td>\n",
       "      <td>Released</td>\n",
       "      <td>Friends are the people who let you be yourself...</td>\n",
       "      <td>Waiting to Exhale</td>\n",
       "      <td>False</td>\n",
       "      <td>6.10</td>\n",
       "      <td>34.00</td>\n",
       "      <td>NaN</td>\n",
       "      <td>None</td>\n",
       "      <td>None</td>\n",
       "      <td>None</td>\n",
       "    </tr>\n",
       "    <tr>\n",
       "      <th>4</th>\n",
       "      <td>False</td>\n",
       "      <td>{'id': 96871, 'name': 'Father of the Bride Col...</td>\n",
       "      <td>0</td>\n",
       "      <td>[{'id': 35, 'name': 'Comedy'}]</td>\n",
       "      <td>NaN</td>\n",
       "      <td>11862</td>\n",
       "      <td>tt0113041</td>\n",
       "      <td>en</td>\n",
       "      <td>Father of the Bride Part II</td>\n",
       "      <td>Just when George Banks has recovered from his ...</td>\n",
       "      <td>...</td>\n",
       "      <td>Released</td>\n",
       "      <td>Just When His World Is Back To Normal... He's ...</td>\n",
       "      <td>Father of the Bride Part II</td>\n",
       "      <td>False</td>\n",
       "      <td>5.70</td>\n",
       "      <td>173.00</td>\n",
       "      <td>96871.00</td>\n",
       "      <td>Father of the Bride Collection</td>\n",
       "      <td>/nts4iOmNnq7GNicycMJ9pSAn204.jpg</td>\n",
       "      <td>/7qwE57OVZmMJChBpLEbJEmzUydk.jpg</td>\n",
       "    </tr>\n",
       "  </tbody>\n",
       "</table>\n",
       "<p>5 rows × 28 columns</p>\n",
       "</div>"
      ],
      "text/plain": [
       "   adult                              belongs_to_collection    budget  \\\n",
       "0  False  {'id': 10194, 'name': 'Toy Story Collection', ...  30000000   \n",
       "1  False                                                 {}  65000000   \n",
       "2  False  {'id': 119050, 'name': 'Grumpy Old Men Collect...         0   \n",
       "3  False                                                 {}  16000000   \n",
       "4  False  {'id': 96871, 'name': 'Father of the Bride Col...         0   \n",
       "\n",
       "                                              genres  \\\n",
       "0  [{'id': 16, 'name': 'Animation'}, {'id': 35, '...   \n",
       "1  [{'id': 12, 'name': 'Adventure'}, {'id': 14, '...   \n",
       "2  [{'id': 10749, 'name': 'Romance'}, {'id': 35, ...   \n",
       "3  [{'id': 35, 'name': 'Comedy'}, {'id': 18, 'nam...   \n",
       "4                     [{'id': 35, 'name': 'Comedy'}]   \n",
       "\n",
       "                               homepage     id    imdb_id original_language  \\\n",
       "0  http://toystory.disney.com/toy-story    862  tt0114709                en   \n",
       "1                                   NaN   8844  tt0113497                en   \n",
       "2                                   NaN  15602  tt0113228                en   \n",
       "3                                   NaN  31357  tt0114885                en   \n",
       "4                                   NaN  11862  tt0113041                en   \n",
       "\n",
       "                original_title  \\\n",
       "0                    Toy Story   \n",
       "1                      Jumanji   \n",
       "2             Grumpier Old Men   \n",
       "3            Waiting to Exhale   \n",
       "4  Father of the Bride Part II   \n",
       "\n",
       "                                            overview  ...    status  \\\n",
       "0  Led by Woody, Andy's toys live happily in his ...  ...  Released   \n",
       "1  When siblings Judy and Peter discover an encha...  ...  Released   \n",
       "2  A family wedding reignites the ancient feud be...  ...  Released   \n",
       "3  Cheated on, mistreated and stepped on, the wom...  ...  Released   \n",
       "4  Just when George Banks has recovered from his ...  ...  Released   \n",
       "\n",
       "                                             tagline  \\\n",
       "0                                                NaN   \n",
       "1          Roll the dice and unleash the excitement!   \n",
       "2  Still Yelling. Still Fighting. Still Ready for...   \n",
       "3  Friends are the people who let you be yourself...   \n",
       "4  Just When His World Is Back To Normal... He's ...   \n",
       "\n",
       "                         title  video vote_average  vote_count  \\\n",
       "0                    Toy Story  False         7.70     5415.00   \n",
       "1                      Jumanji  False         6.90     2413.00   \n",
       "2             Grumpier Old Men  False         6.50       92.00   \n",
       "3            Waiting to Exhale  False         6.10       34.00   \n",
       "4  Father of the Bride Part II  False         5.70      173.00   \n",
       "\n",
       "   id_collections                name_collections  \\\n",
       "0        10194.00            Toy Story Collection   \n",
       "1             NaN                            None   \n",
       "2       119050.00       Grumpy Old Men Collection   \n",
       "3             NaN                            None   \n",
       "4        96871.00  Father of the Bride Collection   \n",
       "\n",
       "            poster_path_collections         backdrop_path_collections  \n",
       "0  /7G9915LfUQ2lVfwMEEhDsn3kT4B.jpg  /9FBwqcd9IRruEDUrTdcaafOMKUq.jpg  \n",
       "1                              None                              None  \n",
       "2  /nLvUdqgPgm3F85NMCii9gVFUcet.jpg  /hypTnLot2z8wpFS7qwsQHW1uV8u.jpg  \n",
       "3                              None                              None  \n",
       "4  /nts4iOmNnq7GNicycMJ9pSAn204.jpg  /7qwE57OVZmMJChBpLEbJEmzUydk.jpg  \n",
       "\n",
       "[5 rows x 28 columns]"
      ]
     },
     "execution_count": 133,
     "metadata": {},
     "output_type": "execute_result"
    }
   ],
   "source": [
    "#Generar una nueva columna con los valores en el diccionario accediendo por claves\n",
    "#Las nuevas columnas creadas se les agregará _collections para identificar que provienen de esa columna\n",
    "movies[\"id_collections\"]=movies[\"belongs_to_collection\"].apply(lambda x: x.get(\"id\") if isinstance(x, dict) else None)\n",
    "movies[\"name_collections\"]=movies[\"belongs_to_collection\"].apply(lambda x: x.get(\"name\") if isinstance(x, dict) else None)\n",
    "movies[\"poster_path_collections\"]=movies[\"belongs_to_collection\"].apply(lambda x: x.get(\"poster_path\") if isinstance(x, dict) else None)\n",
    "movies[\"backdrop_path_collections\"]=movies[\"belongs_to_collection\"].apply(lambda x: x.get(\"backdrop_path\") if isinstance(x, dict) else None)\n",
    "movies.head()"
   ]
  },
  {
   "cell_type": "code",
   "execution_count": 134,
   "metadata": {},
   "outputs": [],
   "source": [
    "# Se crea la función safe_eval\n",
    "def safe_eval(x):\n",
    "    '''\n",
    "    Función para convertir una cadena de texto a una lista que contiene diccionarios\n",
    "    Devuelve una lista vacia en caso de error\n",
    "    Si no es una cadena de texto, devuelve una lista vacia\n",
    "    '''\n",
    "    if isinstance(x, str):\n",
    "        try:\n",
    "            # Se evalua si el string si es válido\n",
    "            return ast.literal_eval(x)\n",
    "        except (ValueError, SyntaxError) as e:\n",
    "            print(f\"Error al convertir: {x}, Error: {e}\")\n",
    "            return []  # En caso de error, devolvemos lista vacía\n",
    "    return []  # Si no es una cadena, devolvemos lista vacía\n",
    "\n"
   ]
  },
  {
   "cell_type": "code",
   "execution_count": 135,
   "metadata": {},
   "outputs": [],
   "source": [
    "# Se aplica la función para convertir la columna 'genres'\n",
    "movies['genres'] = movies['genres'].apply(safe_eval)"
   ]
  },
  {
   "cell_type": "code",
   "execution_count": 136,
   "metadata": {},
   "outputs": [],
   "source": [
    "#Se crea un bucle for para acceder a los elementos en la lista con su clave\n",
    "#Solo se extrae la información a los valores name de genres y nos sus Id por no ser relevantes para el análisis\n",
    "# Solo se extraen hasta 3 generos por pelicula\n",
    "for i in range(3):\n",
    "    movies[f'genre_{i+1}_name'] = movies['genres'].apply(lambda x: x[i]['name'] if isinstance(x, list) and len(x) > i else None)"
   ]
  },
  {
   "cell_type": "code",
   "execution_count": 137,
   "metadata": {},
   "outputs": [
    {
     "data": {
      "text/html": [
       "<div>\n",
       "<style scoped>\n",
       "    .dataframe tbody tr th:only-of-type {\n",
       "        vertical-align: middle;\n",
       "    }\n",
       "\n",
       "    .dataframe tbody tr th {\n",
       "        vertical-align: top;\n",
       "    }\n",
       "\n",
       "    .dataframe thead th {\n",
       "        text-align: right;\n",
       "    }\n",
       "</style>\n",
       "<table border=\"1\" class=\"dataframe\">\n",
       "  <thead>\n",
       "    <tr style=\"text-align: right;\">\n",
       "      <th></th>\n",
       "      <th>adult</th>\n",
       "      <th>belongs_to_collection</th>\n",
       "      <th>budget</th>\n",
       "      <th>genres</th>\n",
       "      <th>homepage</th>\n",
       "      <th>id</th>\n",
       "      <th>imdb_id</th>\n",
       "      <th>original_language</th>\n",
       "      <th>original_title</th>\n",
       "      <th>overview</th>\n",
       "      <th>...</th>\n",
       "      <th>video</th>\n",
       "      <th>vote_average</th>\n",
       "      <th>vote_count</th>\n",
       "      <th>id_collections</th>\n",
       "      <th>name_collections</th>\n",
       "      <th>poster_path_collections</th>\n",
       "      <th>backdrop_path_collections</th>\n",
       "      <th>genre_1_name</th>\n",
       "      <th>genre_2_name</th>\n",
       "      <th>genre_3_name</th>\n",
       "    </tr>\n",
       "  </thead>\n",
       "  <tbody>\n",
       "    <tr>\n",
       "      <th>0</th>\n",
       "      <td>False</td>\n",
       "      <td>{'id': 10194, 'name': 'Toy Story Collection', ...</td>\n",
       "      <td>30000000</td>\n",
       "      <td>[{'id': 16, 'name': 'Animation'}, {'id': 35, '...</td>\n",
       "      <td>http://toystory.disney.com/toy-story</td>\n",
       "      <td>862</td>\n",
       "      <td>tt0114709</td>\n",
       "      <td>en</td>\n",
       "      <td>Toy Story</td>\n",
       "      <td>Led by Woody, Andy's toys live happily in his ...</td>\n",
       "      <td>...</td>\n",
       "      <td>False</td>\n",
       "      <td>7.70</td>\n",
       "      <td>5415.00</td>\n",
       "      <td>10194.00</td>\n",
       "      <td>Toy Story Collection</td>\n",
       "      <td>/7G9915LfUQ2lVfwMEEhDsn3kT4B.jpg</td>\n",
       "      <td>/9FBwqcd9IRruEDUrTdcaafOMKUq.jpg</td>\n",
       "      <td>Animation</td>\n",
       "      <td>Comedy</td>\n",
       "      <td>Family</td>\n",
       "    </tr>\n",
       "    <tr>\n",
       "      <th>1</th>\n",
       "      <td>False</td>\n",
       "      <td>{}</td>\n",
       "      <td>65000000</td>\n",
       "      <td>[{'id': 12, 'name': 'Adventure'}, {'id': 14, '...</td>\n",
       "      <td>NaN</td>\n",
       "      <td>8844</td>\n",
       "      <td>tt0113497</td>\n",
       "      <td>en</td>\n",
       "      <td>Jumanji</td>\n",
       "      <td>When siblings Judy and Peter discover an encha...</td>\n",
       "      <td>...</td>\n",
       "      <td>False</td>\n",
       "      <td>6.90</td>\n",
       "      <td>2413.00</td>\n",
       "      <td>NaN</td>\n",
       "      <td>None</td>\n",
       "      <td>None</td>\n",
       "      <td>None</td>\n",
       "      <td>Adventure</td>\n",
       "      <td>Fantasy</td>\n",
       "      <td>Family</td>\n",
       "    </tr>\n",
       "    <tr>\n",
       "      <th>2</th>\n",
       "      <td>False</td>\n",
       "      <td>{'id': 119050, 'name': 'Grumpy Old Men Collect...</td>\n",
       "      <td>0</td>\n",
       "      <td>[{'id': 10749, 'name': 'Romance'}, {'id': 35, ...</td>\n",
       "      <td>NaN</td>\n",
       "      <td>15602</td>\n",
       "      <td>tt0113228</td>\n",
       "      <td>en</td>\n",
       "      <td>Grumpier Old Men</td>\n",
       "      <td>A family wedding reignites the ancient feud be...</td>\n",
       "      <td>...</td>\n",
       "      <td>False</td>\n",
       "      <td>6.50</td>\n",
       "      <td>92.00</td>\n",
       "      <td>119050.00</td>\n",
       "      <td>Grumpy Old Men Collection</td>\n",
       "      <td>/nLvUdqgPgm3F85NMCii9gVFUcet.jpg</td>\n",
       "      <td>/hypTnLot2z8wpFS7qwsQHW1uV8u.jpg</td>\n",
       "      <td>Romance</td>\n",
       "      <td>Comedy</td>\n",
       "      <td>None</td>\n",
       "    </tr>\n",
       "    <tr>\n",
       "      <th>3</th>\n",
       "      <td>False</td>\n",
       "      <td>{}</td>\n",
       "      <td>16000000</td>\n",
       "      <td>[{'id': 35, 'name': 'Comedy'}, {'id': 18, 'nam...</td>\n",
       "      <td>NaN</td>\n",
       "      <td>31357</td>\n",
       "      <td>tt0114885</td>\n",
       "      <td>en</td>\n",
       "      <td>Waiting to Exhale</td>\n",
       "      <td>Cheated on, mistreated and stepped on, the wom...</td>\n",
       "      <td>...</td>\n",
       "      <td>False</td>\n",
       "      <td>6.10</td>\n",
       "      <td>34.00</td>\n",
       "      <td>NaN</td>\n",
       "      <td>None</td>\n",
       "      <td>None</td>\n",
       "      <td>None</td>\n",
       "      <td>Comedy</td>\n",
       "      <td>Drama</td>\n",
       "      <td>Romance</td>\n",
       "    </tr>\n",
       "    <tr>\n",
       "      <th>4</th>\n",
       "      <td>False</td>\n",
       "      <td>{'id': 96871, 'name': 'Father of the Bride Col...</td>\n",
       "      <td>0</td>\n",
       "      <td>[{'id': 35, 'name': 'Comedy'}]</td>\n",
       "      <td>NaN</td>\n",
       "      <td>11862</td>\n",
       "      <td>tt0113041</td>\n",
       "      <td>en</td>\n",
       "      <td>Father of the Bride Part II</td>\n",
       "      <td>Just when George Banks has recovered from his ...</td>\n",
       "      <td>...</td>\n",
       "      <td>False</td>\n",
       "      <td>5.70</td>\n",
       "      <td>173.00</td>\n",
       "      <td>96871.00</td>\n",
       "      <td>Father of the Bride Collection</td>\n",
       "      <td>/nts4iOmNnq7GNicycMJ9pSAn204.jpg</td>\n",
       "      <td>/7qwE57OVZmMJChBpLEbJEmzUydk.jpg</td>\n",
       "      <td>Comedy</td>\n",
       "      <td>None</td>\n",
       "      <td>None</td>\n",
       "    </tr>\n",
       "  </tbody>\n",
       "</table>\n",
       "<p>5 rows × 31 columns</p>\n",
       "</div>"
      ],
      "text/plain": [
       "   adult                              belongs_to_collection    budget  \\\n",
       "0  False  {'id': 10194, 'name': 'Toy Story Collection', ...  30000000   \n",
       "1  False                                                 {}  65000000   \n",
       "2  False  {'id': 119050, 'name': 'Grumpy Old Men Collect...         0   \n",
       "3  False                                                 {}  16000000   \n",
       "4  False  {'id': 96871, 'name': 'Father of the Bride Col...         0   \n",
       "\n",
       "                                              genres  \\\n",
       "0  [{'id': 16, 'name': 'Animation'}, {'id': 35, '...   \n",
       "1  [{'id': 12, 'name': 'Adventure'}, {'id': 14, '...   \n",
       "2  [{'id': 10749, 'name': 'Romance'}, {'id': 35, ...   \n",
       "3  [{'id': 35, 'name': 'Comedy'}, {'id': 18, 'nam...   \n",
       "4                     [{'id': 35, 'name': 'Comedy'}]   \n",
       "\n",
       "                               homepage     id    imdb_id original_language  \\\n",
       "0  http://toystory.disney.com/toy-story    862  tt0114709                en   \n",
       "1                                   NaN   8844  tt0113497                en   \n",
       "2                                   NaN  15602  tt0113228                en   \n",
       "3                                   NaN  31357  tt0114885                en   \n",
       "4                                   NaN  11862  tt0113041                en   \n",
       "\n",
       "                original_title  \\\n",
       "0                    Toy Story   \n",
       "1                      Jumanji   \n",
       "2             Grumpier Old Men   \n",
       "3            Waiting to Exhale   \n",
       "4  Father of the Bride Part II   \n",
       "\n",
       "                                            overview  ...  video vote_average  \\\n",
       "0  Led by Woody, Andy's toys live happily in his ...  ...  False         7.70   \n",
       "1  When siblings Judy and Peter discover an encha...  ...  False         6.90   \n",
       "2  A family wedding reignites the ancient feud be...  ...  False         6.50   \n",
       "3  Cheated on, mistreated and stepped on, the wom...  ...  False         6.10   \n",
       "4  Just when George Banks has recovered from his ...  ...  False         5.70   \n",
       "\n",
       "  vote_count id_collections                name_collections  \\\n",
       "0    5415.00       10194.00            Toy Story Collection   \n",
       "1    2413.00            NaN                            None   \n",
       "2      92.00      119050.00       Grumpy Old Men Collection   \n",
       "3      34.00            NaN                            None   \n",
       "4     173.00       96871.00  Father of the Bride Collection   \n",
       "\n",
       "            poster_path_collections         backdrop_path_collections  \\\n",
       "0  /7G9915LfUQ2lVfwMEEhDsn3kT4B.jpg  /9FBwqcd9IRruEDUrTdcaafOMKUq.jpg   \n",
       "1                              None                              None   \n",
       "2  /nLvUdqgPgm3F85NMCii9gVFUcet.jpg  /hypTnLot2z8wpFS7qwsQHW1uV8u.jpg   \n",
       "3                              None                              None   \n",
       "4  /nts4iOmNnq7GNicycMJ9pSAn204.jpg  /7qwE57OVZmMJChBpLEbJEmzUydk.jpg   \n",
       "\n",
       "  genre_1_name genre_2_name genre_3_name  \n",
       "0    Animation       Comedy       Family  \n",
       "1    Adventure      Fantasy       Family  \n",
       "2      Romance       Comedy         None  \n",
       "3       Comedy        Drama      Romance  \n",
       "4       Comedy         None         None  \n",
       "\n",
       "[5 rows x 31 columns]"
      ]
     },
     "execution_count": 137,
     "metadata": {},
     "output_type": "execute_result"
    }
   ],
   "source": [
    "#Se verifica la creación de las nuevas columnas genre\n",
    "movies.head() "
   ]
  },
  {
   "cell_type": "code",
   "execution_count": 138,
   "metadata": {},
   "outputs": [],
   "source": [
    "# Se replica acciones ejecutadas para convertir y extraer información de la columna production_companies\n",
    "#Solo se extraen hasta 3 compañías productoras y solo los nombres de las compañías\n",
    "movies[\"production_companies\"]= movies[\"production_companies\"].apply(safe_eval)\n",
    "for i in range(3):\n",
    "    movies[f'companies_{i+1}_name'] = movies[\"production_companies\"].apply(lambda x: x[i]['name'] if isinstance(x, list) and len(x) > i else None)"
   ]
  },
  {
   "cell_type": "code",
   "execution_count": 139,
   "metadata": {},
   "outputs": [
    {
     "data": {
      "text/html": [
       "<div>\n",
       "<style scoped>\n",
       "    .dataframe tbody tr th:only-of-type {\n",
       "        vertical-align: middle;\n",
       "    }\n",
       "\n",
       "    .dataframe tbody tr th {\n",
       "        vertical-align: top;\n",
       "    }\n",
       "\n",
       "    .dataframe thead th {\n",
       "        text-align: right;\n",
       "    }\n",
       "</style>\n",
       "<table border=\"1\" class=\"dataframe\">\n",
       "  <thead>\n",
       "    <tr style=\"text-align: right;\">\n",
       "      <th></th>\n",
       "      <th>companies_1_name</th>\n",
       "      <th>companies_2_name</th>\n",
       "      <th>companies_3_name</th>\n",
       "    </tr>\n",
       "  </thead>\n",
       "  <tbody>\n",
       "    <tr>\n",
       "      <th>0</th>\n",
       "      <td>Pixar Animation Studios</td>\n",
       "      <td>None</td>\n",
       "      <td>None</td>\n",
       "    </tr>\n",
       "    <tr>\n",
       "      <th>1</th>\n",
       "      <td>TriStar Pictures</td>\n",
       "      <td>Teitler Film</td>\n",
       "      <td>Interscope Communications</td>\n",
       "    </tr>\n",
       "    <tr>\n",
       "      <th>2</th>\n",
       "      <td>Warner Bros.</td>\n",
       "      <td>Lancaster Gate</td>\n",
       "      <td>None</td>\n",
       "    </tr>\n",
       "    <tr>\n",
       "      <th>3</th>\n",
       "      <td>Twentieth Century Fox Film Corporation</td>\n",
       "      <td>None</td>\n",
       "      <td>None</td>\n",
       "    </tr>\n",
       "    <tr>\n",
       "      <th>4</th>\n",
       "      <td>Sandollar Productions</td>\n",
       "      <td>Touchstone Pictures</td>\n",
       "      <td>None</td>\n",
       "    </tr>\n",
       "  </tbody>\n",
       "</table>\n",
       "</div>"
      ],
      "text/plain": [
       "                         companies_1_name     companies_2_name  \\\n",
       "0                 Pixar Animation Studios                 None   \n",
       "1                        TriStar Pictures         Teitler Film   \n",
       "2                            Warner Bros.       Lancaster Gate   \n",
       "3  Twentieth Century Fox Film Corporation                 None   \n",
       "4                   Sandollar Productions  Touchstone Pictures   \n",
       "\n",
       "            companies_3_name  \n",
       "0                       None  \n",
       "1  Interscope Communications  \n",
       "2                       None  \n",
       "3                       None  \n",
       "4                       None  "
      ]
     },
     "execution_count": 139,
     "metadata": {},
     "output_type": "execute_result"
    }
   ],
   "source": [
    "movies[['companies_1_name', 'companies_2_name','companies_3_name']].head() #verificar las nuevas columnas creadas"
   ]
  },
  {
   "cell_type": "code",
   "execution_count": 140,
   "metadata": {},
   "outputs": [],
   "source": [
    "# Se replica acciones ejecutadas para convertir y extraer información de la columna production_countries\n",
    "#Solo se extraen hasta 3 paises productores y solo los nombres de los países\n",
    "movies[\"production_countries\"]= movies[\"production_countries\"].apply(safe_eval)\n",
    "for i in range(3):\n",
    "    movies[f'country_{i+1}_name'] = movies[\"production_countries\"].apply(lambda x: x[i]['name'] if isinstance(x, list) and len(x) > i else None)"
   ]
  },
  {
   "cell_type": "code",
   "execution_count": 141,
   "metadata": {},
   "outputs": [
    {
     "data": {
      "text/plain": [
       "Index(['adult', 'belongs_to_collection', 'budget', 'genres', 'homepage', 'id',\n",
       "       'imdb_id', 'original_language', 'original_title', 'overview',\n",
       "       'popularity', 'poster_path', 'production_companies',\n",
       "       'production_countries', 'release_date', 'revenue', 'runtime',\n",
       "       'spoken_languages', 'status', 'tagline', 'title', 'video',\n",
       "       'vote_average', 'vote_count', 'id_collections', 'name_collections',\n",
       "       'poster_path_collections', 'backdrop_path_collections', 'genre_1_name',\n",
       "       'genre_2_name', 'genre_3_name', 'companies_1_name', 'companies_2_name',\n",
       "       'companies_3_name', 'country_1_name', 'country_2_name',\n",
       "       'country_3_name'],\n",
       "      dtype='object')"
      ]
     },
     "execution_count": 141,
     "metadata": {},
     "output_type": "execute_result"
    }
   ],
   "source": [
    "movies.columns"
   ]
  },
  {
   "cell_type": "code",
   "execution_count": 142,
   "metadata": {},
   "outputs": [
    {
     "data": {
      "text/html": [
       "<div>\n",
       "<style scoped>\n",
       "    .dataframe tbody tr th:only-of-type {\n",
       "        vertical-align: middle;\n",
       "    }\n",
       "\n",
       "    .dataframe tbody tr th {\n",
       "        vertical-align: top;\n",
       "    }\n",
       "\n",
       "    .dataframe thead th {\n",
       "        text-align: right;\n",
       "    }\n",
       "</style>\n",
       "<table border=\"1\" class=\"dataframe\">\n",
       "  <thead>\n",
       "    <tr style=\"text-align: right;\">\n",
       "      <th></th>\n",
       "      <th>country_1_name</th>\n",
       "      <th>country_2_name</th>\n",
       "      <th>country_3_name</th>\n",
       "    </tr>\n",
       "  </thead>\n",
       "  <tbody>\n",
       "    <tr>\n",
       "      <th>0</th>\n",
       "      <td>United States of America</td>\n",
       "      <td>None</td>\n",
       "      <td>None</td>\n",
       "    </tr>\n",
       "    <tr>\n",
       "      <th>1</th>\n",
       "      <td>United States of America</td>\n",
       "      <td>None</td>\n",
       "      <td>None</td>\n",
       "    </tr>\n",
       "    <tr>\n",
       "      <th>2</th>\n",
       "      <td>United States of America</td>\n",
       "      <td>None</td>\n",
       "      <td>None</td>\n",
       "    </tr>\n",
       "    <tr>\n",
       "      <th>3</th>\n",
       "      <td>United States of America</td>\n",
       "      <td>None</td>\n",
       "      <td>None</td>\n",
       "    </tr>\n",
       "    <tr>\n",
       "      <th>4</th>\n",
       "      <td>United States of America</td>\n",
       "      <td>None</td>\n",
       "      <td>None</td>\n",
       "    </tr>\n",
       "  </tbody>\n",
       "</table>\n",
       "</div>"
      ],
      "text/plain": [
       "             country_1_name country_2_name country_3_name\n",
       "0  United States of America           None           None\n",
       "1  United States of America           None           None\n",
       "2  United States of America           None           None\n",
       "3  United States of America           None           None\n",
       "4  United States of America           None           None"
      ]
     },
     "execution_count": 142,
     "metadata": {},
     "output_type": "execute_result"
    }
   ],
   "source": [
    "movies[['country_1_name', 'country_2_name','country_3_name']].head() #verificar las columnas de paises"
   ]
  },
  {
   "cell_type": "code",
   "execution_count": 143,
   "metadata": {},
   "outputs": [],
   "source": [
    "# Se replica acciones ejecutadas para convertir y extraer información de la columna spoken_languages\n",
    "#Solo se extraen hasta 3 lenguajes hablados\n",
    "movies[\"spoken_languages\"]= movies[\"spoken_languages\"].apply(safe_eval)\n",
    "for i in range(3):\n",
    "    movies[f'language_{i+1}_iso'] = movies[\"spoken_languages\"].apply(lambda x: x[i]['iso_639_1'] if isinstance(x,list) and len(x) > i else None)\n",
    "    movies[f'language_{i+1}_name'] = movies[\"spoken_languages\"].apply(lambda x: x[i]['name'] if isinstance(x, list) and len(x) > i else None)"
   ]
  },
  {
   "cell_type": "code",
   "execution_count": 144,
   "metadata": {},
   "outputs": [
    {
     "data": {
      "text/plain": [
       "Index(['adult', 'belongs_to_collection', 'budget', 'genres', 'homepage', 'id',\n",
       "       'imdb_id', 'original_language', 'original_title', 'overview',\n",
       "       'popularity', 'poster_path', 'production_companies',\n",
       "       'production_countries', 'release_date', 'revenue', 'runtime',\n",
       "       'spoken_languages', 'status', 'tagline', 'title', 'video',\n",
       "       'vote_average', 'vote_count', 'id_collections', 'name_collections',\n",
       "       'poster_path_collections', 'backdrop_path_collections', 'genre_1_name',\n",
       "       'genre_2_name', 'genre_3_name', 'companies_1_name', 'companies_2_name',\n",
       "       'companies_3_name', 'country_1_name', 'country_2_name',\n",
       "       'country_3_name', 'language_1_iso', 'language_1_name', 'language_2_iso',\n",
       "       'language_2_name', 'language_3_iso', 'language_3_name'],\n",
       "      dtype='object')"
      ]
     },
     "execution_count": 144,
     "metadata": {},
     "output_type": "execute_result"
    }
   ],
   "source": [
    "movies.columns #verificar las columnas creadas"
   ]
  },
  {
   "cell_type": "code",
   "execution_count": 145,
   "metadata": {},
   "outputs": [
    {
     "data": {
      "text/html": [
       "<div>\n",
       "<style scoped>\n",
       "    .dataframe tbody tr th:only-of-type {\n",
       "        vertical-align: middle;\n",
       "    }\n",
       "\n",
       "    .dataframe tbody tr th {\n",
       "        vertical-align: top;\n",
       "    }\n",
       "\n",
       "    .dataframe thead th {\n",
       "        text-align: right;\n",
       "    }\n",
       "</style>\n",
       "<table border=\"1\" class=\"dataframe\">\n",
       "  <thead>\n",
       "    <tr style=\"text-align: right;\">\n",
       "      <th></th>\n",
       "      <th>language_1_iso</th>\n",
       "      <th>language_1_name</th>\n",
       "      <th>language_2_iso</th>\n",
       "      <th>language_2_name</th>\n",
       "      <th>language_3_iso</th>\n",
       "      <th>language_3_name</th>\n",
       "    </tr>\n",
       "  </thead>\n",
       "  <tbody>\n",
       "    <tr>\n",
       "      <th>0</th>\n",
       "      <td>en</td>\n",
       "      <td>English</td>\n",
       "      <td>None</td>\n",
       "      <td>None</td>\n",
       "      <td>None</td>\n",
       "      <td>None</td>\n",
       "    </tr>\n",
       "    <tr>\n",
       "      <th>1</th>\n",
       "      <td>en</td>\n",
       "      <td>English</td>\n",
       "      <td>fr</td>\n",
       "      <td>Français</td>\n",
       "      <td>None</td>\n",
       "      <td>None</td>\n",
       "    </tr>\n",
       "    <tr>\n",
       "      <th>2</th>\n",
       "      <td>en</td>\n",
       "      <td>English</td>\n",
       "      <td>None</td>\n",
       "      <td>None</td>\n",
       "      <td>None</td>\n",
       "      <td>None</td>\n",
       "    </tr>\n",
       "    <tr>\n",
       "      <th>3</th>\n",
       "      <td>en</td>\n",
       "      <td>English</td>\n",
       "      <td>None</td>\n",
       "      <td>None</td>\n",
       "      <td>None</td>\n",
       "      <td>None</td>\n",
       "    </tr>\n",
       "    <tr>\n",
       "      <th>4</th>\n",
       "      <td>en</td>\n",
       "      <td>English</td>\n",
       "      <td>None</td>\n",
       "      <td>None</td>\n",
       "      <td>None</td>\n",
       "      <td>None</td>\n",
       "    </tr>\n",
       "  </tbody>\n",
       "</table>\n",
       "</div>"
      ],
      "text/plain": [
       "  language_1_iso language_1_name language_2_iso language_2_name  \\\n",
       "0             en         English           None            None   \n",
       "1             en         English             fr        Français   \n",
       "2             en         English           None            None   \n",
       "3             en         English           None            None   \n",
       "4             en         English           None            None   \n",
       "\n",
       "  language_3_iso language_3_name  \n",
       "0           None            None  \n",
       "1           None            None  \n",
       "2           None            None  \n",
       "3           None            None  \n",
       "4           None            None  "
      ]
     },
     "execution_count": 145,
     "metadata": {},
     "output_type": "execute_result"
    }
   ],
   "source": [
    "#verificar los valores en las nuevas columnas\n",
    "movies[['language_1_iso', 'language_1_name', 'language_2_iso','language_2_name', 'language_3_iso', 'language_3_name']].head()"
   ]
  },
  {
   "cell_type": "markdown",
   "metadata": {},
   "source": [
    "# Rellenar valores nulos en columnas revenue y budget\n",
    "Se procede a rellenar con el número 0 los campos nulos que se encuentran en las columnas revenue y budget"
   ]
  },
  {
   "cell_type": "code",
   "execution_count": 146,
   "metadata": {},
   "outputs": [],
   "source": [
    "# Relleno de valores nulos con 0\n",
    "movies[\"revenue\"]= movies[\"revenue\"].fillna(0)\n",
    "movies[\"budget\"] = movies[\"budget\"].fillna(0)"
   ]
  },
  {
   "cell_type": "code",
   "execution_count": 147,
   "metadata": {},
   "outputs": [
    {
     "name": "stdout",
     "output_type": "stream",
     "text": [
      "<class 'pandas.core.frame.DataFrame'>\n",
      "RangeIndex: 45466 entries, 0 to 45465\n",
      "Data columns (total 2 columns):\n",
      " #   Column   Non-Null Count  Dtype  \n",
      "---  ------   --------------  -----  \n",
      " 0   revenue  45466 non-null  float64\n",
      " 1   budget   45466 non-null  object \n",
      "dtypes: float64(1), object(1)\n",
      "memory usage: 710.5+ KB\n"
     ]
    }
   ],
   "source": [
    "#verificar los tipos de datos de las columnas revenue y budget\n",
    "movies[[\"revenue\", \"budget\"]].info()"
   ]
  },
  {
   "cell_type": "code",
   "execution_count": 148,
   "metadata": {},
   "outputs": [],
   "source": [
    "#Se reliza el cambio del tipo objet to float en la columna budget\n",
    "\n",
    "#Se identifican valores que terminan en .jpg en la columna, por lo que se reemplazan por 0\n",
    "movies[\"budget\"] = movies[\"budget\"].str.replace(r\".*\\.jpg$\",\"0\", regex=True) \n",
    "#Ahora si es posible realizar el cambio en el tipo de dato\n",
    "movies[\"budget\"]=movies[\"budget\"].astype(float) #Convertir el tipo de datos de la columa buget a número float\n"
   ]
  },
  {
   "cell_type": "code",
   "execution_count": 149,
   "metadata": {},
   "outputs": [
    {
     "data": {
      "text/html": [
       "<div>\n",
       "<style scoped>\n",
       "    .dataframe tbody tr th:only-of-type {\n",
       "        vertical-align: middle;\n",
       "    }\n",
       "\n",
       "    .dataframe tbody tr th {\n",
       "        vertical-align: top;\n",
       "    }\n",
       "\n",
       "    .dataframe thead th {\n",
       "        text-align: right;\n",
       "    }\n",
       "</style>\n",
       "<table border=\"1\" class=\"dataframe\">\n",
       "  <thead>\n",
       "    <tr style=\"text-align: right;\">\n",
       "      <th></th>\n",
       "      <th>revenue</th>\n",
       "      <th>budget</th>\n",
       "    </tr>\n",
       "  </thead>\n",
       "  <tbody>\n",
       "    <tr>\n",
       "      <th>count</th>\n",
       "      <td>45466.00</td>\n",
       "      <td>45466.00</td>\n",
       "    </tr>\n",
       "    <tr>\n",
       "      <th>mean</th>\n",
       "      <td>11207869.28</td>\n",
       "      <td>4224300.06</td>\n",
       "    </tr>\n",
       "    <tr>\n",
       "      <th>std</th>\n",
       "      <td>64328130.52</td>\n",
       "      <td>17423591.55</td>\n",
       "    </tr>\n",
       "    <tr>\n",
       "      <th>min</th>\n",
       "      <td>0.00</td>\n",
       "      <td>0.00</td>\n",
       "    </tr>\n",
       "    <tr>\n",
       "      <th>25%</th>\n",
       "      <td>0.00</td>\n",
       "      <td>0.00</td>\n",
       "    </tr>\n",
       "    <tr>\n",
       "      <th>50%</th>\n",
       "      <td>0.00</td>\n",
       "      <td>0.00</td>\n",
       "    </tr>\n",
       "    <tr>\n",
       "      <th>75%</th>\n",
       "      <td>0.00</td>\n",
       "      <td>0.00</td>\n",
       "    </tr>\n",
       "    <tr>\n",
       "      <th>max</th>\n",
       "      <td>2787965087.00</td>\n",
       "      <td>380000000.00</td>\n",
       "    </tr>\n",
       "  </tbody>\n",
       "</table>\n",
       "</div>"
      ],
      "text/plain": [
       "            revenue       budget\n",
       "count      45466.00     45466.00\n",
       "mean    11207869.28   4224300.06\n",
       "std     64328130.52  17423591.55\n",
       "min            0.00         0.00\n",
       "25%            0.00         0.00\n",
       "50%            0.00         0.00\n",
       "75%            0.00         0.00\n",
       "max   2787965087.00 380000000.00"
      ]
     },
     "execution_count": 149,
     "metadata": {},
     "output_type": "execute_result"
    }
   ],
   "source": [
    "#Se procede a verificar los cambios ejecutados en las columnas con ayuda de un describe\n",
    "pd.options.display.float_format = '{:.2f}'.format #quitar la visualización de notación cientifica en el output del .describe()\n",
    "movies[[\"revenue\",\"budget\"]].describe()"
   ]
  },
  {
   "cell_type": "markdown",
   "metadata": {},
   "source": [
    "# Eliminar valores nulos de columna Release Date\n",
    "Se procede a eliminar las filas que tienen valores nulos en la columna release date"
   ]
  },
  {
   "cell_type": "code",
   "execution_count": 150,
   "metadata": {},
   "outputs": [
    {
     "name": "stdout",
     "output_type": "stream",
     "text": [
      "<class 'pandas.core.series.Series'>\n",
      "RangeIndex: 45466 entries, 0 to 45465\n",
      "Series name: release_date\n",
      "Non-Null Count  Dtype \n",
      "--------------  ----- \n",
      "45379 non-null  object\n",
      "dtypes: object(1)\n",
      "memory usage: 355.3+ KB\n"
     ]
    }
   ],
   "source": [
    "#Se verifican cuantos valores nulos tiene la columna release date\n",
    "movies[\"release_date\"].info()"
   ]
  },
  {
   "cell_type": "code",
   "execution_count": 151,
   "metadata": {},
   "outputs": [],
   "source": [
    "movies = movies.dropna(subset=\"release_date\")"
   ]
  },
  {
   "cell_type": "code",
   "execution_count": 152,
   "metadata": {},
   "outputs": [
    {
     "name": "stdout",
     "output_type": "stream",
     "text": [
      "<class 'pandas.core.series.Series'>\n",
      "Index: 45379 entries, 0 to 45465\n",
      "Series name: release_date\n",
      "Non-Null Count  Dtype \n",
      "--------------  ----- \n",
      "45379 non-null  object\n",
      "dtypes: object(1)\n",
      "memory usage: 709.0+ KB\n"
     ]
    }
   ],
   "source": [
    "#Se verifica el proceso realizado \n",
    "movies[\"release_date\"].info()"
   ]
  },
  {
   "cell_type": "code",
   "execution_count": 153,
   "metadata": {},
   "outputs": [
    {
     "name": "stdout",
     "output_type": "stream",
     "text": [
      "<class 'pandas.core.frame.DataFrame'>\n",
      "RangeIndex: 45379 entries, 0 to 45378\n",
      "Data columns (total 43 columns):\n",
      " #   Column                     Non-Null Count  Dtype  \n",
      "---  ------                     --------------  -----  \n",
      " 0   adult                      45379 non-null  object \n",
      " 1   belongs_to_collection      45379 non-null  object \n",
      " 2   budget                     45379 non-null  float64\n",
      " 3   genres                     45379 non-null  object \n",
      " 4   homepage                   7769 non-null   object \n",
      " 5   id                         45379 non-null  object \n",
      " 6   imdb_id                    45365 non-null  object \n",
      " 7   original_language          45368 non-null  object \n",
      " 8   original_title             45379 non-null  object \n",
      " 9   overview                   44438 non-null  object \n",
      " 10  popularity                 45377 non-null  object \n",
      " 11  poster_path                45040 non-null  object \n",
      " 12  production_companies       45379 non-null  object \n",
      " 13  production_countries       45379 non-null  object \n",
      " 14  release_date               45379 non-null  object \n",
      " 15  revenue                    45379 non-null  float64\n",
      " 16  runtime                    45130 non-null  float64\n",
      " 17  spoken_languages           45379 non-null  object \n",
      " 18  status                     45296 non-null  object \n",
      " 19  tagline                    20398 non-null  object \n",
      " 20  title                      45376 non-null  object \n",
      " 21  video                      45376 non-null  object \n",
      " 22  vote_average               45376 non-null  float64\n",
      " 23  vote_count                 45376 non-null  float64\n",
      " 24  id_collections             4488 non-null   float64\n",
      " 25  name_collections           4488 non-null   object \n",
      " 26  poster_path_collections    3945 non-null   object \n",
      " 27  backdrop_path_collections  3260 non-null   object \n",
      " 28  genre_1_name               42995 non-null  object \n",
      " 29  genre_2_name               28448 non-null  object \n",
      " 30  genre_3_name               13975 non-null  object \n",
      " 31  companies_1_name           33580 non-null  object \n",
      " 32  companies_2_name           17003 non-null  object \n",
      " 33  companies_3_name           9043 non-null   object \n",
      " 34  country_1_name             39165 non-null  object \n",
      " 35  country_2_name             7026 non-null   object \n",
      " 36  country_3_name             2151 non-null   object \n",
      " 37  language_1_iso             41608 non-null  object \n",
      " 38  language_1_name            41608 non-null  object \n",
      " 39  language_2_iso             7893 non-null   object \n",
      " 40  language_2_name            7893 non-null   object \n",
      " 41  language_3_iso             2523 non-null   object \n",
      " 42  language_3_name            2523 non-null   object \n",
      "dtypes: float64(6), object(37)\n",
      "memory usage: 14.9+ MB\n"
     ]
    }
   ],
   "source": [
    "#Se resetea el index luego de eliminar filas\n",
    "movies = movies.reset_index(drop=True)\n",
    "movies.info()"
   ]
  },
  {
   "cell_type": "markdown",
   "metadata": {},
   "source": [
    "# Verificar el formato de las columnas que contienen fechas\n"
   ]
  },
  {
   "cell_type": "code",
   "execution_count": 154,
   "metadata": {},
   "outputs": [
    {
     "data": {
      "text/plain": [
       "dtype('O')"
      ]
     },
     "execution_count": 154,
     "metadata": {},
     "output_type": "execute_result"
    }
   ],
   "source": [
    "#Verificar el tipo de dato de la columna release date\n",
    "movies[\"release_date\"].dtype"
   ]
  },
  {
   "cell_type": "code",
   "execution_count": 155,
   "metadata": {},
   "outputs": [
    {
     "name": "stdout",
     "output_type": "stream",
     "text": [
      "Error al convertir la fila 19714: 1 Given date string \"1\" not likely a datetime, at position 0\n",
      "Error al convertir la fila 29472: 12 Given date string \"12\" not likely a datetime, at position 0\n",
      "Error al convertir la fila 35543: 22 Given date string \"22\" not likely a datetime, at position 0\n"
     ]
    }
   ],
   "source": [
    "#Convertir a tipo fecha los datos contenidos en cada fila de la columna release_date\n",
    "#Se usa un bucle for para que se ingrese a cada fila y se verifique la solicitud de conversión de tipo de dato\n",
    "# En caso que no se pueda convertir, identifique la fila y el error que impide la conversión.\n",
    "for ind, fila in movies.iterrows():\n",
    "    try:\n",
    "        movies.loc[ind,\"release_date\"] = pd.to_datetime(fila[\"release_date\"])\n",
    "    except ValueError as e:\n",
    "        print(f\"Error al convertir la fila {ind}: {fila[\"release_date\"]} {e}\")"
   ]
  },
  {
   "cell_type": "code",
   "execution_count": 156,
   "metadata": {},
   "outputs": [],
   "source": [
    "#Se eliminan estas filas dado que se consideran como datos nulos en la columna release_date \n",
    "#Siendo consistente con el proceso anterior (eliminar filas que tienen valores nulos en la columna \"release_date\")\n",
    "movies.drop(index=[19714,29472,35543], inplace= True)"
   ]
  },
  {
   "cell_type": "code",
   "execution_count": 157,
   "metadata": {},
   "outputs": [],
   "source": [
    "#Se pasan los formatos de las fechas a AAAA-mm-dd\n",
    "movies[\"release_date\"] = pd.to_datetime(movies[\"release_date\"], format=\"%Y-%m-%d\")"
   ]
  },
  {
   "cell_type": "code",
   "execution_count": 158,
   "metadata": {},
   "outputs": [
    {
     "data": {
      "text/plain": [
       "dtype('<M8[ns]')"
      ]
     },
     "execution_count": 158,
     "metadata": {},
     "output_type": "execute_result"
    }
   ],
   "source": [
    "#Se verifica el formato de la columna\n",
    "movies[\"release_date\"].dtype"
   ]
  },
  {
   "cell_type": "markdown",
   "metadata": {},
   "source": [
    "# Creación de columna release_year\n",
    "Se procede a crear la columna release_year con los años en la fecha de estreno (release_date)"
   ]
  },
  {
   "cell_type": "code",
   "execution_count": 159,
   "metadata": {},
   "outputs": [],
   "source": [
    "movies[\"release_year\"] = movies[\"release_date\"].dt.year"
   ]
  },
  {
   "cell_type": "code",
   "execution_count": 160,
   "metadata": {},
   "outputs": [
    {
     "data": {
      "text/plain": [
       "count   45376.00\n",
       "mean     1991.88\n",
       "std        24.06\n",
       "min      1874.00\n",
       "25%      1978.00\n",
       "50%      2001.00\n",
       "75%      2010.00\n",
       "max      2020.00\n",
       "Name: release_year, dtype: float64"
      ]
     },
     "execution_count": 160,
     "metadata": {},
     "output_type": "execute_result"
    }
   ],
   "source": [
    "# Se verifica la nueva columna\n",
    "movies[\"release_year\"].describe()"
   ]
  },
  {
   "cell_type": "markdown",
   "metadata": {},
   "source": [
    "# Crear la columna con el retorno de inversión Return\n",
    "Se procede a crear la columna return usando la siguiente formula: revenue/budget, cuando no hay valores para el calculo, tomará el valor 0"
   ]
  },
  {
   "cell_type": "code",
   "execution_count": 161,
   "metadata": {},
   "outputs": [],
   "source": [
    "movies[\"return\"] = np.where((movies[\"revenue\"] == 0) | (movies[\"budget\"] == 0), 0, movies[\"revenue\"] / movies [\"budget\"])"
   ]
  },
  {
   "cell_type": "code",
   "execution_count": 162,
   "metadata": {},
   "outputs": [
    {
     "data": {
      "text/plain": [
       "count      45376.00\n",
       "mean         660.04\n",
       "std        74693.29\n",
       "min            0.00\n",
       "25%            0.00\n",
       "50%            0.00\n",
       "75%            0.00\n",
       "max     12396383.00\n",
       "Name: return, dtype: float64"
      ]
     },
     "execution_count": 162,
     "metadata": {},
     "output_type": "execute_result"
    }
   ],
   "source": [
    "#Se verifica la nueva columna\n",
    "movies[\"return\"].describe()"
   ]
  },
  {
   "cell_type": "markdown",
   "metadata": {},
   "source": [
    "# Eliminar columnas no deseadas\n",
    "Se procede a eliminar las columnas que no serán utilizadas, video,imdb_id,adult,original_title,poster_path y homepage."
   ]
  },
  {
   "cell_type": "code",
   "execution_count": 163,
   "metadata": {},
   "outputs": [
    {
     "data": {
      "text/plain": [
       "45"
      ]
     },
     "execution_count": 163,
     "metadata": {},
     "output_type": "execute_result"
    }
   ],
   "source": [
    "#Conocer el total de columnas actual, antes de eliminar\n",
    "movies.shape[1]"
   ]
  },
  {
   "cell_type": "code",
   "execution_count": 164,
   "metadata": {},
   "outputs": [
    {
     "data": {
      "text/plain": [
       "Index(['adult', 'belongs_to_collection', 'budget', 'genres', 'homepage', 'id',\n",
       "       'imdb_id', 'original_language', 'original_title', 'overview',\n",
       "       'popularity', 'poster_path', 'production_companies',\n",
       "       'production_countries', 'release_date', 'revenue', 'runtime',\n",
       "       'spoken_languages', 'status', 'tagline', 'title', 'video',\n",
       "       'vote_average', 'vote_count', 'id_collections', 'name_collections',\n",
       "       'poster_path_collections', 'backdrop_path_collections', 'genre_1_name',\n",
       "       'genre_2_name', 'genre_3_name', 'companies_1_name', 'companies_2_name',\n",
       "       'companies_3_name', 'country_1_name', 'country_2_name',\n",
       "       'country_3_name', 'language_1_iso', 'language_1_name', 'language_2_iso',\n",
       "       'language_2_name', 'language_3_iso', 'language_3_name', 'release_year',\n",
       "       'return'],\n",
       "      dtype='object')"
      ]
     },
     "execution_count": 164,
     "metadata": {},
     "output_type": "execute_result"
    }
   ],
   "source": [
    "#Se verifica las columnas que hay en el data set\n",
    "movies.columns"
   ]
  },
  {
   "cell_type": "code",
   "execution_count": 165,
   "metadata": {},
   "outputs": [],
   "source": [
    "#Se seleccionan estas columnas que no serán utilizadas, además de las enunciadas en esta sección\n",
    "movies.drop([\"video\", \"imdb_id\", \"adult\", \"original_title\", \"poster_path\", \"homepage\",\"poster_path_collections\",\n",
    "             \"backdrop_path_collections\", \"belongs_to_collection\", \"genres\", 'production_companies','production_countries'],\n",
    "              axis=1, inplace=True)"
   ]
  },
  {
   "cell_type": "code",
   "execution_count": 166,
   "metadata": {},
   "outputs": [
    {
     "data": {
      "text/plain": [
       "33"
      ]
     },
     "execution_count": 166,
     "metadata": {},
     "output_type": "execute_result"
    }
   ],
   "source": [
    "movies.shape[1] #Verificar el número final de columnas"
   ]
  },
  {
   "cell_type": "markdown",
   "metadata": {},
   "source": [
    "# Transformaciones a Credits\n",
    "Se procede a realizar la lectura del archivo credits y a extraer los datos anidados en las columnas cast y crew"
   ]
  },
  {
   "cell_type": "code",
   "execution_count": 167,
   "metadata": {},
   "outputs": [
    {
     "data": {
      "text/html": [
       "<div>\n",
       "<style scoped>\n",
       "    .dataframe tbody tr th:only-of-type {\n",
       "        vertical-align: middle;\n",
       "    }\n",
       "\n",
       "    .dataframe tbody tr th {\n",
       "        vertical-align: top;\n",
       "    }\n",
       "\n",
       "    .dataframe thead th {\n",
       "        text-align: right;\n",
       "    }\n",
       "</style>\n",
       "<table border=\"1\" class=\"dataframe\">\n",
       "  <thead>\n",
       "    <tr style=\"text-align: right;\">\n",
       "      <th></th>\n",
       "      <th>cast</th>\n",
       "      <th>crew</th>\n",
       "      <th>id</th>\n",
       "    </tr>\n",
       "  </thead>\n",
       "  <tbody>\n",
       "    <tr>\n",
       "      <th>0</th>\n",
       "      <td>[{'cast_id': 14, 'character': 'Woody (voice)',...</td>\n",
       "      <td>[{'credit_id': '52fe4284c3a36847f8024f49', 'de...</td>\n",
       "      <td>862</td>\n",
       "    </tr>\n",
       "    <tr>\n",
       "      <th>1</th>\n",
       "      <td>[{'cast_id': 1, 'character': 'Alan Parrish', '...</td>\n",
       "      <td>[{'credit_id': '52fe44bfc3a36847f80a7cd1', 'de...</td>\n",
       "      <td>8844</td>\n",
       "    </tr>\n",
       "    <tr>\n",
       "      <th>2</th>\n",
       "      <td>[{'cast_id': 2, 'character': 'Max Goldman', 'c...</td>\n",
       "      <td>[{'credit_id': '52fe466a9251416c75077a89', 'de...</td>\n",
       "      <td>15602</td>\n",
       "    </tr>\n",
       "    <tr>\n",
       "      <th>3</th>\n",
       "      <td>[{'cast_id': 1, 'character': \"Savannah 'Vannah...</td>\n",
       "      <td>[{'credit_id': '52fe44779251416c91011acb', 'de...</td>\n",
       "      <td>31357</td>\n",
       "    </tr>\n",
       "    <tr>\n",
       "      <th>4</th>\n",
       "      <td>[{'cast_id': 1, 'character': 'George Banks', '...</td>\n",
       "      <td>[{'credit_id': '52fe44959251416c75039ed7', 'de...</td>\n",
       "      <td>11862</td>\n",
       "    </tr>\n",
       "  </tbody>\n",
       "</table>\n",
       "</div>"
      ],
      "text/plain": [
       "                                                cast  \\\n",
       "0  [{'cast_id': 14, 'character': 'Woody (voice)',...   \n",
       "1  [{'cast_id': 1, 'character': 'Alan Parrish', '...   \n",
       "2  [{'cast_id': 2, 'character': 'Max Goldman', 'c...   \n",
       "3  [{'cast_id': 1, 'character': \"Savannah 'Vannah...   \n",
       "4  [{'cast_id': 1, 'character': 'George Banks', '...   \n",
       "\n",
       "                                                crew     id  \n",
       "0  [{'credit_id': '52fe4284c3a36847f8024f49', 'de...    862  \n",
       "1  [{'credit_id': '52fe44bfc3a36847f80a7cd1', 'de...   8844  \n",
       "2  [{'credit_id': '52fe466a9251416c75077a89', 'de...  15602  \n",
       "3  [{'credit_id': '52fe44779251416c91011acb', 'de...  31357  \n",
       "4  [{'credit_id': '52fe44959251416c75039ed7', 'de...  11862  "
      ]
     },
     "execution_count": 167,
     "metadata": {},
     "output_type": "execute_result"
    }
   ],
   "source": [
    "#Leer archivo credis\n",
    "credits = pd.read_csv(\"credits.csv\", sep= \",\", encoding=\"utf-8\")\n",
    "credits.head()"
   ]
  },
  {
   "cell_type": "code",
   "execution_count": 168,
   "metadata": {},
   "outputs": [],
   "source": [
    "credits = credits.rename(columns={\"id\":\"id_film\"})"
   ]
  },
  {
   "cell_type": "code",
   "execution_count": 169,
   "metadata": {},
   "outputs": [
    {
     "data": {
      "text/html": [
       "<div>\n",
       "<style scoped>\n",
       "    .dataframe tbody tr th:only-of-type {\n",
       "        vertical-align: middle;\n",
       "    }\n",
       "\n",
       "    .dataframe tbody tr th {\n",
       "        vertical-align: top;\n",
       "    }\n",
       "\n",
       "    .dataframe thead th {\n",
       "        text-align: right;\n",
       "    }\n",
       "</style>\n",
       "<table border=\"1\" class=\"dataframe\">\n",
       "  <thead>\n",
       "    <tr style=\"text-align: right;\">\n",
       "      <th></th>\n",
       "      <th>cast</th>\n",
       "      <th>crew</th>\n",
       "      <th>id_film</th>\n",
       "    </tr>\n",
       "  </thead>\n",
       "  <tbody>\n",
       "    <tr>\n",
       "      <th>0</th>\n",
       "      <td>[{'cast_id': 14, 'character': 'Woody (voice)',...</td>\n",
       "      <td>[{'credit_id': '52fe4284c3a36847f8024f49', 'de...</td>\n",
       "      <td>862</td>\n",
       "    </tr>\n",
       "    <tr>\n",
       "      <th>1</th>\n",
       "      <td>[{'cast_id': 1, 'character': 'Alan Parrish', '...</td>\n",
       "      <td>[{'credit_id': '52fe44bfc3a36847f80a7cd1', 'de...</td>\n",
       "      <td>8844</td>\n",
       "    </tr>\n",
       "    <tr>\n",
       "      <th>2</th>\n",
       "      <td>[{'cast_id': 2, 'character': 'Max Goldman', 'c...</td>\n",
       "      <td>[{'credit_id': '52fe466a9251416c75077a89', 'de...</td>\n",
       "      <td>15602</td>\n",
       "    </tr>\n",
       "    <tr>\n",
       "      <th>3</th>\n",
       "      <td>[{'cast_id': 1, 'character': \"Savannah 'Vannah...</td>\n",
       "      <td>[{'credit_id': '52fe44779251416c91011acb', 'de...</td>\n",
       "      <td>31357</td>\n",
       "    </tr>\n",
       "    <tr>\n",
       "      <th>4</th>\n",
       "      <td>[{'cast_id': 1, 'character': 'George Banks', '...</td>\n",
       "      <td>[{'credit_id': '52fe44959251416c75039ed7', 'de...</td>\n",
       "      <td>11862</td>\n",
       "    </tr>\n",
       "  </tbody>\n",
       "</table>\n",
       "</div>"
      ],
      "text/plain": [
       "                                                cast  \\\n",
       "0  [{'cast_id': 14, 'character': 'Woody (voice)',...   \n",
       "1  [{'cast_id': 1, 'character': 'Alan Parrish', '...   \n",
       "2  [{'cast_id': 2, 'character': 'Max Goldman', 'c...   \n",
       "3  [{'cast_id': 1, 'character': \"Savannah 'Vannah...   \n",
       "4  [{'cast_id': 1, 'character': 'George Banks', '...   \n",
       "\n",
       "                                                crew  id_film  \n",
       "0  [{'credit_id': '52fe4284c3a36847f8024f49', 'de...      862  \n",
       "1  [{'credit_id': '52fe44bfc3a36847f80a7cd1', 'de...     8844  \n",
       "2  [{'credit_id': '52fe466a9251416c75077a89', 'de...    15602  \n",
       "3  [{'credit_id': '52fe44779251416c91011acb', 'de...    31357  \n",
       "4  [{'credit_id': '52fe44959251416c75039ed7', 'de...    11862  "
      ]
     },
     "execution_count": 169,
     "metadata": {},
     "output_type": "execute_result"
    }
   ],
   "source": [
    "credits.head()"
   ]
  },
  {
   "cell_type": "code",
   "execution_count": 170,
   "metadata": {},
   "outputs": [],
   "source": [
    "#Se aplica la función safe_eval para convertir a una lista de diccionarios las columnas cast y crew\n",
    "credits[\"cast\"]=credits[\"cast\"].apply(safe_eval)\n",
    "credits[\"crew\"]= credits[\"crew\"].apply(safe_eval)"
   ]
  },
  {
   "cell_type": "code",
   "execution_count": 171,
   "metadata": {},
   "outputs": [],
   "source": [
    "# Se aplica explode a  la columna 'cast' para crear filas individuales con los datos de la columna cast\n",
    "expadir_cast = credits.explode('cast')"
   ]
  },
  {
   "cell_type": "code",
   "execution_count": 172,
   "metadata": {},
   "outputs": [],
   "source": [
    "# Se convierte la columna 'cast' en un DataFrame para tener los datos de los actores separados\n",
    "#Se elimina la columna cast y crew original del nuevo data set\n",
    "cast = pd.concat([expadir_cast.drop(['cast','crew'], axis=1), expadir_cast['cast'].apply(pd.Series)], axis=1)"
   ]
  },
  {
   "cell_type": "code",
   "execution_count": 173,
   "metadata": {},
   "outputs": [
    {
     "data": {
      "text/html": [
       "<div>\n",
       "<style scoped>\n",
       "    .dataframe tbody tr th:only-of-type {\n",
       "        vertical-align: middle;\n",
       "    }\n",
       "\n",
       "    .dataframe tbody tr th {\n",
       "        vertical-align: top;\n",
       "    }\n",
       "\n",
       "    .dataframe thead th {\n",
       "        text-align: right;\n",
       "    }\n",
       "</style>\n",
       "<table border=\"1\" class=\"dataframe\">\n",
       "  <thead>\n",
       "    <tr style=\"text-align: right;\">\n",
       "      <th></th>\n",
       "      <th>id_film</th>\n",
       "      <th>cast_id</th>\n",
       "      <th>character</th>\n",
       "      <th>credit_id</th>\n",
       "      <th>gender</th>\n",
       "      <th>id</th>\n",
       "      <th>name</th>\n",
       "      <th>order</th>\n",
       "      <th>profile_path</th>\n",
       "      <th>0</th>\n",
       "    </tr>\n",
       "  </thead>\n",
       "  <tbody>\n",
       "    <tr>\n",
       "      <th>0</th>\n",
       "      <td>862</td>\n",
       "      <td>14.00</td>\n",
       "      <td>Woody (voice)</td>\n",
       "      <td>52fe4284c3a36847f8024f95</td>\n",
       "      <td>2.00</td>\n",
       "      <td>31.00</td>\n",
       "      <td>Tom Hanks</td>\n",
       "      <td>0.00</td>\n",
       "      <td>/pQFoyx7rp09CJTAb932F2g8Nlho.jpg</td>\n",
       "      <td>NaN</td>\n",
       "    </tr>\n",
       "    <tr>\n",
       "      <th>0</th>\n",
       "      <td>862</td>\n",
       "      <td>15.00</td>\n",
       "      <td>Buzz Lightyear (voice)</td>\n",
       "      <td>52fe4284c3a36847f8024f99</td>\n",
       "      <td>2.00</td>\n",
       "      <td>12898.00</td>\n",
       "      <td>Tim Allen</td>\n",
       "      <td>1.00</td>\n",
       "      <td>/uX2xVf6pMmPepxnvFWyBtjexzgY.jpg</td>\n",
       "      <td>NaN</td>\n",
       "    </tr>\n",
       "    <tr>\n",
       "      <th>0</th>\n",
       "      <td>862</td>\n",
       "      <td>16.00</td>\n",
       "      <td>Mr. Potato Head (voice)</td>\n",
       "      <td>52fe4284c3a36847f8024f9d</td>\n",
       "      <td>2.00</td>\n",
       "      <td>7167.00</td>\n",
       "      <td>Don Rickles</td>\n",
       "      <td>2.00</td>\n",
       "      <td>/h5BcaDMPRVLHLDzbQavec4xfSdt.jpg</td>\n",
       "      <td>NaN</td>\n",
       "    </tr>\n",
       "    <tr>\n",
       "      <th>0</th>\n",
       "      <td>862</td>\n",
       "      <td>17.00</td>\n",
       "      <td>Slinky Dog (voice)</td>\n",
       "      <td>52fe4284c3a36847f8024fa1</td>\n",
       "      <td>2.00</td>\n",
       "      <td>12899.00</td>\n",
       "      <td>Jim Varney</td>\n",
       "      <td>3.00</td>\n",
       "      <td>/eIo2jVVXYgjDtaHoF19Ll9vtW7h.jpg</td>\n",
       "      <td>NaN</td>\n",
       "    </tr>\n",
       "    <tr>\n",
       "      <th>0</th>\n",
       "      <td>862</td>\n",
       "      <td>18.00</td>\n",
       "      <td>Rex (voice)</td>\n",
       "      <td>52fe4284c3a36847f8024fa5</td>\n",
       "      <td>2.00</td>\n",
       "      <td>12900.00</td>\n",
       "      <td>Wallace Shawn</td>\n",
       "      <td>4.00</td>\n",
       "      <td>/oGE6JqPP2xH4tNORKNqxbNPYi7u.jpg</td>\n",
       "      <td>NaN</td>\n",
       "    </tr>\n",
       "  </tbody>\n",
       "</table>\n",
       "</div>"
      ],
      "text/plain": [
       "   id_film  cast_id                character                 credit_id  \\\n",
       "0      862    14.00            Woody (voice)  52fe4284c3a36847f8024f95   \n",
       "0      862    15.00   Buzz Lightyear (voice)  52fe4284c3a36847f8024f99   \n",
       "0      862    16.00  Mr. Potato Head (voice)  52fe4284c3a36847f8024f9d   \n",
       "0      862    17.00       Slinky Dog (voice)  52fe4284c3a36847f8024fa1   \n",
       "0      862    18.00              Rex (voice)  52fe4284c3a36847f8024fa5   \n",
       "\n",
       "   gender       id           name  order                      profile_path   0  \n",
       "0    2.00    31.00      Tom Hanks   0.00  /pQFoyx7rp09CJTAb932F2g8Nlho.jpg NaN  \n",
       "0    2.00 12898.00      Tim Allen   1.00  /uX2xVf6pMmPepxnvFWyBtjexzgY.jpg NaN  \n",
       "0    2.00  7167.00    Don Rickles   2.00  /h5BcaDMPRVLHLDzbQavec4xfSdt.jpg NaN  \n",
       "0    2.00 12899.00     Jim Varney   3.00  /eIo2jVVXYgjDtaHoF19Ll9vtW7h.jpg NaN  \n",
       "0    2.00 12900.00  Wallace Shawn   4.00  /oGE6JqPP2xH4tNORKNqxbNPYi7u.jpg NaN  "
      ]
     },
     "execution_count": 173,
     "metadata": {},
     "output_type": "execute_result"
    }
   ],
   "source": [
    "#Se verifica lo realizado \n",
    "cast.head(5)"
   ]
  },
  {
   "cell_type": "code",
   "execution_count": 174,
   "metadata": {},
   "outputs": [],
   "source": [
    "#Se borra una columna creada llamada 0\n",
    "cast = cast.drop([0], axis=1)"
   ]
  },
  {
   "cell_type": "code",
   "execution_count": 175,
   "metadata": {},
   "outputs": [
    {
     "data": {
      "text/html": [
       "<div>\n",
       "<style scoped>\n",
       "    .dataframe tbody tr th:only-of-type {\n",
       "        vertical-align: middle;\n",
       "    }\n",
       "\n",
       "    .dataframe tbody tr th {\n",
       "        vertical-align: top;\n",
       "    }\n",
       "\n",
       "    .dataframe thead th {\n",
       "        text-align: right;\n",
       "    }\n",
       "</style>\n",
       "<table border=\"1\" class=\"dataframe\">\n",
       "  <thead>\n",
       "    <tr style=\"text-align: right;\">\n",
       "      <th></th>\n",
       "      <th>id_film</th>\n",
       "      <th>cast_id</th>\n",
       "      <th>character</th>\n",
       "      <th>credit_id</th>\n",
       "      <th>gender</th>\n",
       "      <th>id</th>\n",
       "      <th>name</th>\n",
       "      <th>order</th>\n",
       "      <th>profile_path</th>\n",
       "    </tr>\n",
       "  </thead>\n",
       "  <tbody>\n",
       "    <tr>\n",
       "      <th>0</th>\n",
       "      <td>862</td>\n",
       "      <td>14.00</td>\n",
       "      <td>Woody (voice)</td>\n",
       "      <td>52fe4284c3a36847f8024f95</td>\n",
       "      <td>2.00</td>\n",
       "      <td>31.00</td>\n",
       "      <td>Tom Hanks</td>\n",
       "      <td>0.00</td>\n",
       "      <td>/pQFoyx7rp09CJTAb932F2g8Nlho.jpg</td>\n",
       "    </tr>\n",
       "    <tr>\n",
       "      <th>0</th>\n",
       "      <td>862</td>\n",
       "      <td>15.00</td>\n",
       "      <td>Buzz Lightyear (voice)</td>\n",
       "      <td>52fe4284c3a36847f8024f99</td>\n",
       "      <td>2.00</td>\n",
       "      <td>12898.00</td>\n",
       "      <td>Tim Allen</td>\n",
       "      <td>1.00</td>\n",
       "      <td>/uX2xVf6pMmPepxnvFWyBtjexzgY.jpg</td>\n",
       "    </tr>\n",
       "    <tr>\n",
       "      <th>0</th>\n",
       "      <td>862</td>\n",
       "      <td>16.00</td>\n",
       "      <td>Mr. Potato Head (voice)</td>\n",
       "      <td>52fe4284c3a36847f8024f9d</td>\n",
       "      <td>2.00</td>\n",
       "      <td>7167.00</td>\n",
       "      <td>Don Rickles</td>\n",
       "      <td>2.00</td>\n",
       "      <td>/h5BcaDMPRVLHLDzbQavec4xfSdt.jpg</td>\n",
       "    </tr>\n",
       "    <tr>\n",
       "      <th>0</th>\n",
       "      <td>862</td>\n",
       "      <td>17.00</td>\n",
       "      <td>Slinky Dog (voice)</td>\n",
       "      <td>52fe4284c3a36847f8024fa1</td>\n",
       "      <td>2.00</td>\n",
       "      <td>12899.00</td>\n",
       "      <td>Jim Varney</td>\n",
       "      <td>3.00</td>\n",
       "      <td>/eIo2jVVXYgjDtaHoF19Ll9vtW7h.jpg</td>\n",
       "    </tr>\n",
       "    <tr>\n",
       "      <th>0</th>\n",
       "      <td>862</td>\n",
       "      <td>18.00</td>\n",
       "      <td>Rex (voice)</td>\n",
       "      <td>52fe4284c3a36847f8024fa5</td>\n",
       "      <td>2.00</td>\n",
       "      <td>12900.00</td>\n",
       "      <td>Wallace Shawn</td>\n",
       "      <td>4.00</td>\n",
       "      <td>/oGE6JqPP2xH4tNORKNqxbNPYi7u.jpg</td>\n",
       "    </tr>\n",
       "  </tbody>\n",
       "</table>\n",
       "</div>"
      ],
      "text/plain": [
       "   id_film  cast_id                character                 credit_id  \\\n",
       "0      862    14.00            Woody (voice)  52fe4284c3a36847f8024f95   \n",
       "0      862    15.00   Buzz Lightyear (voice)  52fe4284c3a36847f8024f99   \n",
       "0      862    16.00  Mr. Potato Head (voice)  52fe4284c3a36847f8024f9d   \n",
       "0      862    17.00       Slinky Dog (voice)  52fe4284c3a36847f8024fa1   \n",
       "0      862    18.00              Rex (voice)  52fe4284c3a36847f8024fa5   \n",
       "\n",
       "   gender       id           name  order                      profile_path  \n",
       "0    2.00    31.00      Tom Hanks   0.00  /pQFoyx7rp09CJTAb932F2g8Nlho.jpg  \n",
       "0    2.00 12898.00      Tim Allen   1.00  /uX2xVf6pMmPepxnvFWyBtjexzgY.jpg  \n",
       "0    2.00  7167.00    Don Rickles   2.00  /h5BcaDMPRVLHLDzbQavec4xfSdt.jpg  \n",
       "0    2.00 12899.00     Jim Varney   3.00  /eIo2jVVXYgjDtaHoF19Ll9vtW7h.jpg  \n",
       "0    2.00 12900.00  Wallace Shawn   4.00  /oGE6JqPP2xH4tNORKNqxbNPYi7u.jpg  "
      ]
     },
     "execution_count": 175,
     "metadata": {},
     "output_type": "execute_result"
    }
   ],
   "source": [
    "#Se vuelve a verificar lo realizado en el dataset cast\n",
    "cast.head()"
   ]
  },
  {
   "cell_type": "code",
   "execution_count": 176,
   "metadata": {},
   "outputs": [
    {
     "data": {
      "text/html": [
       "<div>\n",
       "<style scoped>\n",
       "    .dataframe tbody tr th:only-of-type {\n",
       "        vertical-align: middle;\n",
       "    }\n",
       "\n",
       "    .dataframe tbody tr th {\n",
       "        vertical-align: top;\n",
       "    }\n",
       "\n",
       "    .dataframe thead th {\n",
       "        text-align: right;\n",
       "    }\n",
       "</style>\n",
       "<table border=\"1\" class=\"dataframe\">\n",
       "  <thead>\n",
       "    <tr style=\"text-align: right;\">\n",
       "      <th></th>\n",
       "      <th>id_film</th>\n",
       "      <th>credit_id</th>\n",
       "      <th>department</th>\n",
       "      <th>gender</th>\n",
       "      <th>id</th>\n",
       "      <th>job</th>\n",
       "      <th>name</th>\n",
       "      <th>profile_path</th>\n",
       "    </tr>\n",
       "  </thead>\n",
       "  <tbody>\n",
       "    <tr>\n",
       "      <th>0</th>\n",
       "      <td>862</td>\n",
       "      <td>52fe4284c3a36847f8024f49</td>\n",
       "      <td>Directing</td>\n",
       "      <td>2.00</td>\n",
       "      <td>7879.00</td>\n",
       "      <td>Director</td>\n",
       "      <td>John Lasseter</td>\n",
       "      <td>/7EdqiNbr4FRjIhKHyPPdFfEEEFG.jpg</td>\n",
       "    </tr>\n",
       "    <tr>\n",
       "      <th>0</th>\n",
       "      <td>862</td>\n",
       "      <td>52fe4284c3a36847f8024f4f</td>\n",
       "      <td>Writing</td>\n",
       "      <td>2.00</td>\n",
       "      <td>12891.00</td>\n",
       "      <td>Screenplay</td>\n",
       "      <td>Joss Whedon</td>\n",
       "      <td>/dTiVsuaTVTeGmvkhcyJvKp2A5kr.jpg</td>\n",
       "    </tr>\n",
       "    <tr>\n",
       "      <th>0</th>\n",
       "      <td>862</td>\n",
       "      <td>52fe4284c3a36847f8024f55</td>\n",
       "      <td>Writing</td>\n",
       "      <td>2.00</td>\n",
       "      <td>7.00</td>\n",
       "      <td>Screenplay</td>\n",
       "      <td>Andrew Stanton</td>\n",
       "      <td>/pvQWsu0qc8JFQhMVJkTHuexUAa1.jpg</td>\n",
       "    </tr>\n",
       "    <tr>\n",
       "      <th>0</th>\n",
       "      <td>862</td>\n",
       "      <td>52fe4284c3a36847f8024f5b</td>\n",
       "      <td>Writing</td>\n",
       "      <td>2.00</td>\n",
       "      <td>12892.00</td>\n",
       "      <td>Screenplay</td>\n",
       "      <td>Joel Cohen</td>\n",
       "      <td>/dAubAiZcvKFbboWlj7oXOkZnTSu.jpg</td>\n",
       "    </tr>\n",
       "    <tr>\n",
       "      <th>0</th>\n",
       "      <td>862</td>\n",
       "      <td>52fe4284c3a36847f8024f61</td>\n",
       "      <td>Writing</td>\n",
       "      <td>0.00</td>\n",
       "      <td>12893.00</td>\n",
       "      <td>Screenplay</td>\n",
       "      <td>Alec Sokolow</td>\n",
       "      <td>/v79vlRYi94BZUQnkkyznbGUZLjT.jpg</td>\n",
       "    </tr>\n",
       "  </tbody>\n",
       "</table>\n",
       "</div>"
      ],
      "text/plain": [
       "   id_film                 credit_id department  gender       id         job  \\\n",
       "0      862  52fe4284c3a36847f8024f49  Directing    2.00  7879.00    Director   \n",
       "0      862  52fe4284c3a36847f8024f4f    Writing    2.00 12891.00  Screenplay   \n",
       "0      862  52fe4284c3a36847f8024f55    Writing    2.00     7.00  Screenplay   \n",
       "0      862  52fe4284c3a36847f8024f5b    Writing    2.00 12892.00  Screenplay   \n",
       "0      862  52fe4284c3a36847f8024f61    Writing    0.00 12893.00  Screenplay   \n",
       "\n",
       "             name                      profile_path  \n",
       "0   John Lasseter  /7EdqiNbr4FRjIhKHyPPdFfEEEFG.jpg  \n",
       "0     Joss Whedon  /dTiVsuaTVTeGmvkhcyJvKp2A5kr.jpg  \n",
       "0  Andrew Stanton  /pvQWsu0qc8JFQhMVJkTHuexUAa1.jpg  \n",
       "0      Joel Cohen  /dAubAiZcvKFbboWlj7oXOkZnTSu.jpg  \n",
       "0    Alec Sokolow  /v79vlRYi94BZUQnkkyznbGUZLjT.jpg  "
      ]
     },
     "execution_count": 176,
     "metadata": {},
     "output_type": "execute_result"
    }
   ],
   "source": [
    "#Se replica lo realizado con los datos de la columna crew, creando un dataset llamado \"crew\"\n",
    "expadir_crew = credits.explode('crew')\n",
    "crew = pd.concat([expadir_crew.drop(['cast','crew'], axis=1), expadir_crew['crew'].apply(pd.Series)], axis=1)\n",
    "crew = crew.drop([0],axis=1)\n",
    "crew.head()"
   ]
  },
  {
   "cell_type": "markdown",
   "metadata": {},
   "source": [
    "# Dataset Finales\n",
    "Se procede a evaluar elcontenido de los dataset finales y realizar algunas depuraciones para el funcionamiento de la API"
   ]
  },
  {
   "cell_type": "code",
   "execution_count": 177,
   "metadata": {},
   "outputs": [
    {
     "name": "stdout",
     "output_type": "stream",
     "text": [
      "<class 'pandas.core.frame.DataFrame'>\n",
      "Index: 45376 entries, 0 to 45378\n",
      "Data columns (total 33 columns):\n",
      " #   Column             Non-Null Count  Dtype         \n",
      "---  ------             --------------  -----         \n",
      " 0   budget             45376 non-null  float64       \n",
      " 1   id                 45376 non-null  object        \n",
      " 2   original_language  45365 non-null  object        \n",
      " 3   overview           44435 non-null  object        \n",
      " 4   popularity         45376 non-null  object        \n",
      " 5   release_date       45376 non-null  datetime64[ns]\n",
      " 6   revenue            45376 non-null  float64       \n",
      " 7   runtime            45130 non-null  float64       \n",
      " 8   spoken_languages   45376 non-null  object        \n",
      " 9   status             45296 non-null  object        \n",
      " 10  tagline            20398 non-null  object        \n",
      " 11  title              45376 non-null  object        \n",
      " 12  vote_average       45376 non-null  float64       \n",
      " 13  vote_count         45376 non-null  float64       \n",
      " 14  id_collections     4488 non-null   float64       \n",
      " 15  name_collections   4488 non-null   object        \n",
      " 16  genre_1_name       42992 non-null  object        \n",
      " 17  genre_2_name       28445 non-null  object        \n",
      " 18  genre_3_name       13972 non-null  object        \n",
      " 19  companies_1_name   33580 non-null  object        \n",
      " 20  companies_2_name   17003 non-null  object        \n",
      " 21  companies_3_name   9043 non-null   object        \n",
      " 22  country_1_name     39165 non-null  object        \n",
      " 23  country_2_name     7026 non-null   object        \n",
      " 24  country_3_name     2151 non-null   object        \n",
      " 25  language_1_iso     41608 non-null  object        \n",
      " 26  language_1_name    41608 non-null  object        \n",
      " 27  language_2_iso     7893 non-null   object        \n",
      " 28  language_2_name    7893 non-null   object        \n",
      " 29  language_3_iso     2523 non-null   object        \n",
      " 30  language_3_name    2523 non-null   object        \n",
      " 31  release_year       45376 non-null  int32         \n",
      " 32  return             45376 non-null  float64       \n",
      "dtypes: datetime64[ns](1), float64(7), int32(1), object(24)\n",
      "memory usage: 11.6+ MB\n"
     ]
    }
   ],
   "source": [
    "#Información de los campos en Movies\n",
    "movies.info()"
   ]
  },
  {
   "cell_type": "code",
   "execution_count": 178,
   "metadata": {},
   "outputs": [
    {
     "data": {
      "text/plain": [
       "array(['English', 'Français', '广州话 / 廣州話', '普通话', 'Pусский', 'Español',\n",
       "       None, 'shqip', 'Italiano', 'Deutsch', 'فارسی', 'Nederlands',\n",
       "       'Dansk', 'العربية', 'Magyar', '', 'Český', 'svenska', '日本語',\n",
       "       'Português', 'Català', '한국어/조선말', 'Afrikaans', 'বাংলা', 'עִבְרִית',\n",
       "       'Latin', 'Cymraeg', 'Tiếng Việt', 'Polski', 'български език',\n",
       "       'ελληνικά', 'Norsk', 'Bosanski', 'Gaeilge', 'Bokmål',\n",
       "       'Український', 'No Language', 'Kiswahili', 'Srpski', 'हिन्दी',\n",
       "       'Azərbaycan', 'ภาษาไทย', 'Bamanankan', 'suomi', 'Română',\n",
       "       'Hrvatski', 'Türkçe', 'ქართული', 'Slovenčina', 'беларуская мова',\n",
       "       'Esperanto', 'Galego', 'Íslenska', 'isiZulu', 'Eesti', 'Latviešu',\n",
       "       'қазақ', 'Slovenščina', 'Bahasa indonesia', 'Wolof', 'اردو',\n",
       "       'Kinyarwanda', 'euskera', 'Bahasa melayu', 'தமிழ்', 'తెలుగు',\n",
       "       'Lietuvi\\x9akai', '?????', '??????', 'پښتو', 'ਪੰਜਾਬੀ', 'Somali',\n",
       "       'Hausa', 'Fulfulde'], dtype=object)"
      ]
     },
     "execution_count": 178,
     "metadata": {},
     "output_type": "execute_result"
    }
   ],
   "source": [
    "movies[\"language_1_name\"].unique() #Verificar los lenguales en la pelicula"
   ]
  },
  {
   "cell_type": "code",
   "execution_count": 179,
   "metadata": {},
   "outputs": [
    {
     "name": "stdout",
     "output_type": "stream",
     "text": [
      "['English' 'Français' 'Español' 'Italiano']\n",
      "total de filas 31804\n"
     ]
    }
   ],
   "source": [
    "#Vamos a filtrar solo las peliculas que hablan los idiomas especificados:\n",
    "lenguajes_final =['English', 'Français', 'Español', 'Italiano']\n",
    "movies = movies[movies['language_1_name'].isin(lenguajes_final)]\n",
    "print(movies['language_1_name'].unique())\n",
    "print('total de filas',movies.__len__())"
   ]
  },
  {
   "cell_type": "code",
   "execution_count": 180,
   "metadata": {},
   "outputs": [
    {
     "name": "stdout",
     "output_type": "stream",
     "text": [
      "año más antiguo 1902\n",
      "año más nuevo 2020\n"
     ]
    }
   ],
   "source": [
    "# Se validar los valores de los años de estreno \n",
    "print('año más antiguo',movies[\"release_year\"].min())\n",
    "print('año más nuevo', movies['release_year'].max())"
   ]
  },
  {
   "cell_type": "code",
   "execution_count": 181,
   "metadata": {},
   "outputs": [
    {
     "name": "stdout",
     "output_type": "stream",
     "text": [
      "año más antiguo 1980\n",
      "año más nuevo 2020\n",
      "total de filas 22983\n"
     ]
    }
   ],
   "source": [
    "#Se van a filtrar solo las peliculas con estreno posterior a 1980\n",
    "movies=movies[movies['release_year']>= 1980]\n",
    "print('año más antiguo',movies[\"release_year\"].min())\n",
    "print('año más nuevo', movies['release_year'].max())\n",
    "print('total de filas',movies.__len__())"
   ]
  },
  {
   "cell_type": "code",
   "execution_count": 193,
   "metadata": {},
   "outputs": [
    {
     "data": {
      "text/plain": [
       "dtype('int64')"
      ]
     },
     "execution_count": 193,
     "metadata": {},
     "output_type": "execute_result"
    }
   ],
   "source": [
    "movies[\"id\"].dtype"
   ]
  },
  {
   "cell_type": "code",
   "execution_count": 196,
   "metadata": {},
   "outputs": [
    {
     "name": "stdout",
     "output_type": "stream",
     "text": [
      "el total filas en el dataset cast es  313710\n"
     ]
    }
   ],
   "source": [
    "# Se van a igual las peliculas en el dataset \"cast\" con las peliculas finales en el dataset \"movies\"\n",
    "movies[\"id\"]= movies[\"id\"].astype(int) #Se convierte id a tipo de dato int\n",
    "cast = cast[cast['id_film'].isin(movies[\"id\"])]\n",
    "print('el total filas en el dataset cast es ', cast.__len__())"
   ]
  },
  {
   "cell_type": "code",
   "execution_count": 197,
   "metadata": {},
   "outputs": [
    {
     "name": "stdout",
     "output_type": "stream",
     "text": [
      "el total filas en el dataset crew es  300250\n"
     ]
    }
   ],
   "source": [
    "# Se procede a realizar lo mismo en el dataset crew\n",
    "crew = crew[crew['id_film'].isin(movies[\"id\"])]\n",
    "print('el total filas en el dataset crew es ', crew.__len__())"
   ]
  }
 ],
 "metadata": {
  "kernelspec": {
   "display_name": "Python 3",
   "language": "python",
   "name": "python3"
  },
  "language_info": {
   "codemirror_mode": {
    "name": "ipython",
    "version": 3
   },
   "file_extension": ".py",
   "mimetype": "text/x-python",
   "name": "python",
   "nbconvert_exporter": "python",
   "pygments_lexer": "ipython3",
   "version": "3.12.2"
  }
 },
 "nbformat": 4,
 "nbformat_minor": 2
}
